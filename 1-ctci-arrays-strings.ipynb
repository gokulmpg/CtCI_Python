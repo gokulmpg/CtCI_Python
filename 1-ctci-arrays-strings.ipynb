{
 "cells": [
  {
   "cell_type": "code",
   "execution_count": 1,
   "id": "cd9e5c50",
   "metadata": {
    "_cell_guid": "b1076dfc-b9ad-4769-8c92-a6c4dae69d19",
    "_uuid": "8f2839f25d086af736a60e9eeb907d3b93b6e0e5",
    "execution": {
     "iopub.execute_input": "2024-01-28T18:08:26.979998Z",
     "iopub.status.busy": "2024-01-28T18:08:26.979585Z",
     "iopub.status.idle": "2024-01-28T18:08:27.427463Z",
     "shell.execute_reply": "2024-01-28T18:08:27.426320Z"
    },
    "papermill": {
     "duration": 0.461255,
     "end_time": "2024-01-28T18:08:27.430430",
     "exception": false,
     "start_time": "2024-01-28T18:08:26.969175",
     "status": "completed"
    },
    "tags": []
   },
   "outputs": [],
   "source": [
    "# This Python 3 environment comes with many helpful analytics libraries installed\n",
    "# It is defined by the kaggle/python Docker image: https://github.com/kaggle/docker-python\n",
    "# For example, here's several helpful packages to load\n",
    "\n",
    "import numpy as np # linear algebra\n",
    "import pandas as pd # data processing, CSV file I/O (e.g. pd.read_csv)\n",
    "\n",
    "# Input data files are available in the read-only \"../input/\" directory\n",
    "# For example, running this (by clicking run or pressing Shift+Enter) will list all files under the input directory\n",
    "\n",
    "import os\n",
    "for dirname, _, filenames in os.walk('/kaggle/input'):\n",
    "    for filename in filenames:\n",
    "        print(os.path.join(dirname, filename))\n",
    "\n",
    "# You can write up to 20GB to the current directory (/kaggle/working/) that gets preserved as output when you create a version using \"Save & Run All\" \n",
    "# You can also write temporary files to /kaggle/temp/, but they won't be saved outside of the current session"
   ]
  },
  {
   "cell_type": "markdown",
   "id": "da523241",
   "metadata": {
    "papermill": {
     "duration": 0.00703,
     "end_time": "2024-01-28T18:08:27.445075",
     "exception": false,
     "start_time": "2024-01-28T18:08:27.438045",
     "status": "completed"
    },
    "tags": []
   },
   "source": [
    "### Hash Tables"
   ]
  },
  {
   "cell_type": "markdown",
   "id": "d2814484",
   "metadata": {
    "papermill": {
     "duration": 0.006881,
     "end_time": "2024-01-28T18:08:27.459294",
     "exception": false,
     "start_time": "2024-01-28T18:08:27.452413",
     "status": "completed"
    },
    "tags": []
   },
   "source": [
    "Value to keys in highly efficient look ups...\n",
    "1. compute keys hash code\n",
    "2. Map the hash code to the index in the array\n",
    "3. store keys and values (linked list of keys and values) in Index\n",
    "\n",
    "\n",
    "hi --> 10320 --> 0 |\n",
    "abc--> 980   --> 0 --> hi --> abc \n",
    "\n",
    "\n",
    "\n",
    "\n",
    "\n"
   ]
  },
  {
   "cell_type": "markdown",
   "id": "53f15231",
   "metadata": {
    "papermill": {
     "duration": 0.006937,
     "end_time": "2024-01-28T18:08:27.473383",
     "exception": false,
     "start_time": "2024-01-28T18:08:27.466446",
     "status": "completed"
    },
    "tags": []
   },
   "source": [
    "### Array List & Resizable Array"
   ]
  },
  {
   "cell_type": "markdown",
   "id": "3a0a1aec",
   "metadata": {
    "papermill": {
     "duration": 0.006878,
     "end_time": "2024-01-28T18:08:27.487435",
     "exception": false,
     "start_time": "2024-01-28T18:08:27.480557",
     "status": "completed"
    },
    "tags": []
   },
   "source": [
    "Arrays are list in some languages. Array or a list will grow as you append. arrays are fixed in Java. \n",
    "\n",
    "When you need an array like data strcuture that dynamically resizes, You would use arrayList.\n",
    "\n",
    "\n"
   ]
  },
  {
   "cell_type": "markdown",
   "id": "ad4d5c36",
   "metadata": {
    "papermill": {
     "duration": 0.006868,
     "end_time": "2024-01-28T18:08:27.501622",
     "exception": false,
     "start_time": "2024-01-28T18:08:27.494754",
     "status": "completed"
    },
    "tags": []
   },
   "source": [
    "### String Builder\n",
    "\n",
    "For Concatenating a list of strings... On each concaterating, new copy of a string is created..  1x --> 2x --> 3x  =  O(x+2x+..+nx) = O(n power2 x)\n",
    "\n",
    "String builder can avoid this problem.\n",
    "\n",
    "If Resizable arrays of all string are built and copied whenevr neccesary. That is String Builder.\n",
    "\n"
   ]
  },
  {
   "cell_type": "markdown",
   "id": "e3ae9616",
   "metadata": {
    "papermill": {
     "duration": 0.007066,
     "end_time": "2024-01-28T18:08:27.516095",
     "exception": false,
     "start_time": "2024-01-28T18:08:27.509029",
     "status": "completed"
    },
    "tags": []
   },
   "source": [
    "#### Q1 Implement an Alogorithm to determine if a string has all unique charecter.\n",
    "\n",
    "##### Alternative usecase : Cant use additional data structures.."
   ]
  },
  {
   "cell_type": "code",
   "execution_count": 2,
   "id": "a06db935",
   "metadata": {
    "execution": {
     "iopub.execute_input": "2024-01-28T18:08:27.533132Z",
     "iopub.status.busy": "2024-01-28T18:08:27.532188Z",
     "iopub.status.idle": "2024-01-28T18:08:27.540506Z",
     "shell.execute_reply": "2024-01-28T18:08:27.539247Z"
    },
    "papermill": {
     "duration": 0.019812,
     "end_time": "2024-01-28T18:08:27.543162",
     "exception": false,
     "start_time": "2024-01-28T18:08:27.523350",
     "status": "completed"
    },
    "tags": []
   },
   "outputs": [],
   "source": [
    "def is_unique_algo(string1):\n",
    "    if len(string1) > 128:\n",
    "        return False\n",
    "    \n",
    "    char_set = [False] * 128\n",
    "    for char in string1:\n",
    "        val = ord(char)\n",
    "        if char_set[val]:\n",
    "            return False\n",
    "        char_set[val] = True\n",
    "        \n",
    "    return True\n",
    "\n",
    "\n",
    "\n",
    "def is_unique_pyth(string2):\n",
    "    return len(set(string2))==len(string2)\n",
    "\n",
    "\n",
    "def is_unique_dict(string: str):\n",
    "    character_counts = {}\n",
    "    for char in string:\n",
    "        if char in character_counts:\n",
    "            return False\n",
    "        character_counts[char] = 1\n",
    "    return True\n",
    "    "
   ]
  },
  {
   "cell_type": "code",
   "execution_count": 3,
   "id": "c5f04b53",
   "metadata": {
    "execution": {
     "iopub.execute_input": "2024-01-28T18:08:27.560113Z",
     "iopub.status.busy": "2024-01-28T18:08:27.559553Z",
     "iopub.status.idle": "2024-01-28T18:08:27.568480Z",
     "shell.execute_reply": "2024-01-28T18:08:27.567233Z"
    },
    "papermill": {
     "duration": 0.020389,
     "end_time": "2024-01-28T18:08:27.571072",
     "exception": false,
     "start_time": "2024-01-28T18:08:27.550683",
     "status": "completed"
    },
    "tags": []
   },
   "outputs": [
    {
     "data": {
      "text/plain": [
       "True"
      ]
     },
     "execution_count": 3,
     "metadata": {},
     "output_type": "execute_result"
    }
   ],
   "source": [
    "is_unique_dict('king')"
   ]
  },
  {
   "cell_type": "markdown",
   "id": "46738d29",
   "metadata": {
    "execution": {
     "iopub.execute_input": "2024-01-26T16:39:41.855434Z",
     "iopub.status.busy": "2024-01-26T16:39:41.854981Z",
     "iopub.status.idle": "2024-01-26T16:39:41.863525Z",
     "shell.execute_reply": "2024-01-26T16:39:41.861977Z",
     "shell.execute_reply.started": "2024-01-26T16:39:41.855399Z"
    },
    "papermill": {
     "duration": 0.007534,
     "end_time": "2024-01-28T18:08:27.586658",
     "exception": false,
     "start_time": "2024-01-28T18:08:27.579124",
     "status": "completed"
    },
    "tags": []
   },
   "source": [
    "#### Q2. Given two string write a method to decide if one is a permutation of the other\n",
    "##### \n"
   ]
  },
  {
   "cell_type": "code",
   "execution_count": 4,
   "id": "935e5d00",
   "metadata": {
    "execution": {
     "iopub.execute_input": "2024-01-28T18:08:27.604574Z",
     "iopub.status.busy": "2024-01-28T18:08:27.604123Z",
     "iopub.status.idle": "2024-01-28T18:08:27.612100Z",
     "shell.execute_reply": "2024-01-28T18:08:27.610874Z"
    },
    "papermill": {
     "duration": 0.02023,
     "end_time": "2024-01-28T18:08:27.614497",
     "exception": false,
     "start_time": "2024-01-28T18:08:27.594267",
     "status": "completed"
    },
    "tags": []
   },
   "outputs": [],
   "source": [
    "def check_perm_sort(s1,s2):\n",
    "    if len(s1) != len(s2):\n",
    "        return False\n",
    "    s1,s2 = sorted(s1),sorted(s2)\n",
    "    for i in range(len(s1)):\n",
    "        if s1[i] != s2[i]:\n",
    "            return False\n",
    "    return True\n",
    "\n",
    "\n",
    "def check_permutation_pyth(str1,str2):\n",
    "    if len(str1)!=len(str2):\n",
    "        return False\n",
    "    from collections import Counter\n",
    "    return Counter(str1) == Counter(str2)\n"
   ]
  },
  {
   "cell_type": "code",
   "execution_count": 5,
   "id": "719169b7",
   "metadata": {
    "execution": {
     "iopub.execute_input": "2024-01-28T18:08:27.632569Z",
     "iopub.status.busy": "2024-01-28T18:08:27.631344Z",
     "iopub.status.idle": "2024-01-28T18:08:27.638946Z",
     "shell.execute_reply": "2024-01-28T18:08:27.637860Z"
    },
    "papermill": {
     "duration": 0.018873,
     "end_time": "2024-01-28T18:08:27.641342",
     "exception": false,
     "start_time": "2024-01-28T18:08:27.622469",
     "status": "completed"
    },
    "tags": []
   },
   "outputs": [
    {
     "data": {
      "text/plain": [
       "False"
      ]
     },
     "execution_count": 5,
     "metadata": {},
     "output_type": "execute_result"
    }
   ],
   "source": [
    "check_permutation_pyth('QUick','Qkciu')"
   ]
  },
  {
   "cell_type": "markdown",
   "id": "7034cc3e",
   "metadata": {
    "execution": {
     "iopub.execute_input": "2024-01-26T16:50:16.040903Z",
     "iopub.status.busy": "2024-01-26T16:50:16.039734Z",
     "iopub.status.idle": "2024-01-26T16:50:16.048146Z",
     "shell.execute_reply": "2024-01-26T16:50:16.046722Z",
     "shell.execute_reply.started": "2024-01-26T16:50:16.040865Z"
    },
    "papermill": {
     "duration": 0.007399,
     "end_time": "2024-01-28T18:08:27.656470",
     "exception": false,
     "start_time": "2024-01-28T18:08:27.649071",
     "status": "completed"
    },
    "tags": []
   },
   "source": [
    "#### Q3. Write a methode to replace all space with %20  a.k.a   urlify"
   ]
  },
  {
   "cell_type": "code",
   "execution_count": 6,
   "id": "dcd8b6da",
   "metadata": {
    "execution": {
     "iopub.execute_input": "2024-01-28T18:08:27.674462Z",
     "iopub.status.busy": "2024-01-28T18:08:27.673333Z",
     "iopub.status.idle": "2024-01-28T18:08:27.681401Z",
     "shell.execute_reply": "2024-01-28T18:08:27.680312Z"
    },
    "papermill": {
     "duration": 0.01996,
     "end_time": "2024-01-28T18:08:27.684030",
     "exception": false,
     "start_time": "2024-01-28T18:08:27.664070",
     "status": "completed"
    },
    "tags": []
   },
   "outputs": [],
   "source": [
    "def urlify_algo(text,leng):\n",
    "    char_lst = list(text)\n",
    "    new_index = len(char_lst)\n",
    "    \n",
    "    for i in reversed(range(leng)):\n",
    "        if char_lst[i] == \" \":\n",
    "            char_lst[new_index - 3 :new_index] = \"%20\"\n",
    "            new_index -=3\n",
    "        else:\n",
    "            char_lst[new_index-1]= char_lst[i]\n",
    "            new_index -= 1\n",
    "    print(char_lst)\n",
    "    print(new_index)\n",
    "    return \"\".join(char_lst[new_index:])\n",
    "\n",
    "def urlify_pyth(text,leng):\n",
    "    return text[:leng].replace(\" \",\"%20\")\n"
   ]
  },
  {
   "cell_type": "code",
   "execution_count": 7,
   "id": "d8d82390",
   "metadata": {
    "execution": {
     "iopub.execute_input": "2024-01-28T18:08:27.701770Z",
     "iopub.status.busy": "2024-01-28T18:08:27.700640Z",
     "iopub.status.idle": "2024-01-28T18:08:27.710061Z",
     "shell.execute_reply": "2024-01-28T18:08:27.708212Z"
    },
    "papermill": {
     "duration": 0.021471,
     "end_time": "2024-01-28T18:08:27.713178",
     "exception": false,
     "start_time": "2024-01-28T18:08:27.691707",
     "status": "completed"
    },
    "tags": []
   },
   "outputs": [
    {
     "name": "stdout",
     "output_type": "stream",
     "text": [
      "['2', '%', '2', '%', '2', '%', '2', '0', 'b', 'a', '2', '%']\n",
      "-2\n"
     ]
    },
    {
     "data": {
      "text/plain": [
       "'2%'"
      ]
     },
     "execution_count": 7,
     "metadata": {},
     "output_type": "execute_result"
    }
   ],
   "source": [
    "urlify_algo('king is back',12)"
   ]
  },
  {
   "cell_type": "markdown",
   "id": "9d642b5e",
   "metadata": {
    "papermill": {
     "duration": 0.007888,
     "end_time": "2024-01-28T18:08:27.729117",
     "exception": false,
     "start_time": "2024-01-28T18:08:27.721229",
     "status": "completed"
    },
    "tags": []
   },
   "source": [
    "#### Q4 Palindrome permutation "
   ]
  },
  {
   "cell_type": "code",
   "execution_count": 8,
   "id": "631419b1",
   "metadata": {
    "execution": {
     "iopub.execute_input": "2024-01-28T18:08:27.748649Z",
     "iopub.status.busy": "2024-01-28T18:08:27.747653Z",
     "iopub.status.idle": "2024-01-28T18:08:27.755940Z",
     "shell.execute_reply": "2024-01-28T18:08:27.754788Z"
    },
    "papermill": {
     "duration": 0.020373,
     "end_time": "2024-01-28T18:08:27.758503",
     "exception": false,
     "start_time": "2024-01-28T18:08:27.738130",
     "status": "completed"
    },
    "tags": []
   },
   "outputs": [],
   "source": [
    "\n",
    "def is_palindrome_permutation_pythonic(phrase):\n",
    "    \"\"\"function checks if a string is a permutation of a palindrome or not\"\"\"\n",
    "    from collections import Counter\n",
    "    counter = Counter(clean_phrase(phrase))\n",
    "    print(clean_phrase(phrase))\n",
    "    return sum(val % 2 for val in counter.values()) <= 1\n",
    "import string\n",
    "def clean_phrase(phrase):\n",
    "    return [c for c in phrase.lower() if c in string.ascii_lowercase]\n",
    "\n",
    "\n",
    "\n"
   ]
  },
  {
   "cell_type": "code",
   "execution_count": 9,
   "id": "9bf8014b",
   "metadata": {
    "execution": {
     "iopub.execute_input": "2024-01-28T18:08:27.777172Z",
     "iopub.status.busy": "2024-01-28T18:08:27.775914Z",
     "iopub.status.idle": "2024-01-28T18:08:27.784911Z",
     "shell.execute_reply": "2024-01-28T18:08:27.783750Z"
    },
    "papermill": {
     "duration": 0.020721,
     "end_time": "2024-01-28T18:08:27.787314",
     "exception": false,
     "start_time": "2024-01-28T18:08:27.766593",
     "status": "completed"
    },
    "tags": []
   },
   "outputs": [
    {
     "name": "stdout",
     "output_type": "stream",
     "text": [
      "['t', 'a', 'c', 'o', 'c', 'a', 't']\n"
     ]
    },
    {
     "data": {
      "text/plain": [
       "True"
      ]
     },
     "execution_count": 9,
     "metadata": {},
     "output_type": "execute_result"
    }
   ],
   "source": [
    "is_palindrome_permutation_pythonic('Taco cat')"
   ]
  },
  {
   "cell_type": "code",
   "execution_count": 10,
   "id": "5c1d0fa9",
   "metadata": {
    "execution": {
     "iopub.execute_input": "2024-01-28T18:08:27.806098Z",
     "iopub.status.busy": "2024-01-28T18:08:27.805627Z",
     "iopub.status.idle": "2024-01-28T18:08:27.815208Z",
     "shell.execute_reply": "2024-01-28T18:08:27.814024Z"
    },
    "papermill": {
     "duration": 0.022042,
     "end_time": "2024-01-28T18:08:27.817703",
     "exception": false,
     "start_time": "2024-01-28T18:08:27.795661",
     "status": "completed"
    },
    "tags": []
   },
   "outputs": [],
   "source": [
    "def char_number(c):\n",
    "    a = ord(\"a\")\n",
    "    z = ord(\"z\")\n",
    "    upper_a = ord(\"A\")\n",
    "    upper_z = ord(\"Z\")\n",
    "    val = ord(c)\n",
    "\n",
    "    if a <= val <= z:\n",
    "        return val - a\n",
    "\n",
    "    if upper_a <= val <= upper_z:\n",
    "        return val - upper_a\n",
    "    return -1\n",
    "\n",
    "def is_palindrome_permutation(phrase):\n",
    "    \"\"\"checks if a string is a permutation of a palindrome\"\"\"\n",
    "    table = [0 for _ in range(ord(\"z\") - ord(\"a\") + 1)]\n",
    "    countodd = 0\n",
    "    for c in phrase:\n",
    "        x = char_number(c)\n",
    "        if x != -1:\n",
    "            table[x] += 1\n",
    "            if table[x] % 2:\n",
    "                countodd += 1\n",
    "            else:\n",
    "                countodd -= 1\n",
    "\n",
    "    return countodd <= 1\n"
   ]
  },
  {
   "cell_type": "markdown",
   "id": "f2b617dc",
   "metadata": {
    "execution": {
     "iopub.execute_input": "2024-01-28T17:26:38.707987Z",
     "iopub.status.busy": "2024-01-28T17:26:38.707282Z",
     "iopub.status.idle": "2024-01-28T17:26:38.714773Z",
     "shell.execute_reply": "2024-01-28T17:26:38.713651Z",
     "shell.execute_reply.started": "2024-01-28T17:26:38.707954Z"
    },
    "papermill": {
     "duration": 0.007848,
     "end_time": "2024-01-28T18:08:27.833753",
     "exception": false,
     "start_time": "2024-01-28T18:08:27.825905",
     "status": "completed"
    },
    "tags": []
   },
   "source": [
    "#### Q.5 One away\n",
    "\n",
    "There are 3 types of edit can be done in a string..  \n",
    "1. Replace a char\n",
    "2. remove a char\n",
    "3. insert a char\n",
    "\n",
    "check if one of this is one step away of another"
   ]
  },
  {
   "cell_type": "code",
   "execution_count": 11,
   "id": "1f031266",
   "metadata": {
    "execution": {
     "iopub.execute_input": "2024-01-28T18:08:27.851573Z",
     "iopub.status.busy": "2024-01-28T18:08:27.851181Z",
     "iopub.status.idle": "2024-01-28T18:08:27.861910Z",
     "shell.execute_reply": "2024-01-28T18:08:27.860598Z"
    },
    "papermill": {
     "duration": 0.022747,
     "end_time": "2024-01-28T18:08:27.864529",
     "exception": false,
     "start_time": "2024-01-28T18:08:27.841782",
     "status": "completed"
    },
    "tags": []
   },
   "outputs": [],
   "source": [
    "def are_one_away(str1,str2):\n",
    "    if len(str1) == len(str2):\n",
    "        return one_replace_away(str1,str2)\n",
    "    if len(str1) + 1 == len(str2):\n",
    "        return one_remove_way(str1,str2)\n",
    "    if len(str1) - 1 == len(str2):\n",
    "        return one_remove_way(str1,str2)\n",
    "    return False\n",
    "\n",
    "def one_replace_away(str1,str2):\n",
    "    edited = False\n",
    "    for c1,c2 in zip(str1,str2):\n",
    "        if c1!= c2:\n",
    "            if edited:\n",
    "                return False\n",
    "            edited = True\n",
    "    return True\n",
    "\n",
    "\n",
    "def one_remove_way(str1,str2):\n",
    "    edited = False\n",
    "    i,j = 0,0\n",
    "    while i < len(str1) and j < len(str2):\n",
    "        if str1[i] != str2[j]:\n",
    "            if edited:\n",
    "                return False\n",
    "            edited = True\n",
    "            j +=1\n",
    "        else:\n",
    "            i +=1\n",
    "            j +=1\n",
    "            \n",
    "    return True\n",
    "            "
   ]
  },
  {
   "cell_type": "code",
   "execution_count": 12,
   "id": "5180489f",
   "metadata": {
    "execution": {
     "iopub.execute_input": "2024-01-28T18:08:27.883849Z",
     "iopub.status.busy": "2024-01-28T18:08:27.883373Z",
     "iopub.status.idle": "2024-01-28T18:08:27.889499Z",
     "shell.execute_reply": "2024-01-28T18:08:27.888430Z"
    },
    "papermill": {
     "duration": 0.018827,
     "end_time": "2024-01-28T18:08:27.892226",
     "exception": false,
     "start_time": "2024-01-28T18:08:27.873399",
     "status": "completed"
    },
    "tags": []
   },
   "outputs": [
    {
     "name": "stdout",
     "output_type": "stream",
     "text": [
      "('c', 't')\n",
      "('u', 'u')\n",
      "('b', 'b')\n",
      "('e', 'e')\n"
     ]
    }
   ],
   "source": [
    "for i in zip(\"cube\",\"tube\"):\n",
    "    print(i)"
   ]
  },
  {
   "cell_type": "code",
   "execution_count": null,
   "id": "bb622a78",
   "metadata": {
    "papermill": {
     "duration": 0.008506,
     "end_time": "2024-01-28T18:08:27.909129",
     "exception": false,
     "start_time": "2024-01-28T18:08:27.900623",
     "status": "completed"
    },
    "tags": []
   },
   "outputs": [],
   "source": []
  }
 ],
 "metadata": {
  "kaggle": {
   "accelerator": "none",
   "dataSources": [],
   "dockerImageVersionId": 30635,
   "isGpuEnabled": false,
   "isInternetEnabled": true,
   "language": "python",
   "sourceType": "notebook"
  },
  "kernelspec": {
   "display_name": "Python 3",
   "language": "python",
   "name": "python3"
  },
  "language_info": {
   "codemirror_mode": {
    "name": "ipython",
    "version": 3
   },
   "file_extension": ".py",
   "mimetype": "text/x-python",
   "name": "python",
   "nbconvert_exporter": "python",
   "pygments_lexer": "ipython3",
   "version": "3.10.12"
  },
  "papermill": {
   "default_parameters": {},
   "duration": 5.03768,
   "end_time": "2024-01-28T18:08:28.439186",
   "environment_variables": {},
   "exception": null,
   "input_path": "__notebook__.ipynb",
   "output_path": "__notebook__.ipynb",
   "parameters": {},
   "start_time": "2024-01-28T18:08:23.401506",
   "version": "2.4.0"
  }
 },
 "nbformat": 4,
 "nbformat_minor": 5
}
