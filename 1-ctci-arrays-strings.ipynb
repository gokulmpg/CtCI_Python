{
 "cells": [
  {
   "cell_type": "code",
   "execution_count": 1,
   "id": "712cba8f",
   "metadata": {
    "_cell_guid": "b1076dfc-b9ad-4769-8c92-a6c4dae69d19",
    "_uuid": "8f2839f25d086af736a60e9eeb907d3b93b6e0e5",
    "execution": {
     "iopub.execute_input": "2024-01-28T18:27:59.364186Z",
     "iopub.status.busy": "2024-01-28T18:27:59.363146Z",
     "iopub.status.idle": "2024-01-28T18:27:59.660172Z",
     "shell.execute_reply": "2024-01-28T18:27:59.659278Z"
    },
    "papermill": {
     "duration": 0.306275,
     "end_time": "2024-01-28T18:27:59.662363",
     "exception": false,
     "start_time": "2024-01-28T18:27:59.356088",
     "status": "completed"
    },
    "tags": []
   },
   "outputs": [],
   "source": [
    "# This Python 3 environment comes with many helpful analytics libraries installed\n",
    "# It is defined by the kaggle/python Docker image: https://github.com/kaggle/docker-python\n",
    "# For example, here's several helpful packages to load\n",
    "\n",
    "import numpy as np # linear algebra\n",
    "import pandas as pd # data processing, CSV file I/O (e.g. pd.read_csv)\n",
    "\n",
    "# Input data files are available in the read-only \"../input/\" directory\n",
    "# For example, running this (by clicking run or pressing Shift+Enter) will list all files under the input directory\n",
    "\n",
    "import os\n",
    "for dirname, _, filenames in os.walk('/kaggle/input'):\n",
    "    for filename in filenames:\n",
    "        print(os.path.join(dirname, filename))\n",
    "\n",
    "# You can write up to 20GB to the current directory (/kaggle/working/) that gets preserved as output when you create a version using \"Save & Run All\" \n",
    "# You can also write temporary files to /kaggle/temp/, but they won't be saved outside of the current session"
   ]
  },
  {
   "cell_type": "markdown",
   "id": "270e8892",
   "metadata": {
    "papermill": {
     "duration": 0.004601,
     "end_time": "2024-01-28T18:27:59.672181",
     "exception": false,
     "start_time": "2024-01-28T18:27:59.667580",
     "status": "completed"
    },
    "tags": []
   },
   "source": [
    "### Hash Tables"
   ]
  },
  {
   "cell_type": "markdown",
   "id": "0a824e88",
   "metadata": {
    "papermill": {
     "duration": 0.00455,
     "end_time": "2024-01-28T18:27:59.681597",
     "exception": false,
     "start_time": "2024-01-28T18:27:59.677047",
     "status": "completed"
    },
    "tags": []
   },
   "source": [
    "Value to keys in highly efficient look ups...\n",
    "1. compute keys hash code\n",
    "2. Map the hash code to the index in the array\n",
    "3. store keys and values (linked list of keys and values) in Index\n",
    "\n",
    "\n",
    "hi --> 10320 --> 0 |\n",
    "abc--> 980   --> 0 --> hi --> abc \n",
    "\n",
    "\n",
    "\n",
    "\n",
    "\n"
   ]
  },
  {
   "cell_type": "markdown",
   "id": "5297e78c",
   "metadata": {
    "papermill": {
     "duration": 0.005054,
     "end_time": "2024-01-28T18:27:59.691385",
     "exception": false,
     "start_time": "2024-01-28T18:27:59.686331",
     "status": "completed"
    },
    "tags": []
   },
   "source": [
    "### Array List & Resizable Array"
   ]
  },
  {
   "cell_type": "markdown",
   "id": "a763da0a",
   "metadata": {
    "papermill": {
     "duration": 0.004547,
     "end_time": "2024-01-28T18:27:59.700588",
     "exception": false,
     "start_time": "2024-01-28T18:27:59.696041",
     "status": "completed"
    },
    "tags": []
   },
   "source": [
    "Arrays are list in some languages. Array or a list will grow as you append. arrays are fixed in Java. \n",
    "\n",
    "When you need an array like data strcuture that dynamically resizes, You would use arrayList.\n",
    "\n",
    "\n"
   ]
  },
  {
   "cell_type": "markdown",
   "id": "2b5015f8",
   "metadata": {
    "papermill": {
     "duration": 0.004488,
     "end_time": "2024-01-28T18:27:59.709761",
     "exception": false,
     "start_time": "2024-01-28T18:27:59.705273",
     "status": "completed"
    },
    "tags": []
   },
   "source": [
    "### String Builder\n",
    "\n",
    "For Concatenating a list of strings... On each concaterating, new copy of a string is created..  1x --> 2x --> 3x  =  O(x+2x+..+nx) = O(n power2 x)\n",
    "\n",
    "String builder can avoid this problem.\n",
    "\n",
    "If Resizable arrays of all string are built and copied whenevr neccesary. That is String Builder.\n",
    "\n"
   ]
  },
  {
   "cell_type": "markdown",
   "id": "0f2f3656",
   "metadata": {
    "papermill": {
     "duration": 0.00451,
     "end_time": "2024-01-28T18:27:59.718999",
     "exception": false,
     "start_time": "2024-01-28T18:27:59.714489",
     "status": "completed"
    },
    "tags": []
   },
   "source": [
    "#### Q1 Implement an Alogorithm to determine if a string has all unique charecter.\n",
    "\n",
    "##### Alternative usecase : Cant use additional data structures.."
   ]
  },
  {
   "cell_type": "code",
   "execution_count": 2,
   "id": "7295d15e",
   "metadata": {
    "execution": {
     "iopub.execute_input": "2024-01-28T18:27:59.730326Z",
     "iopub.status.busy": "2024-01-28T18:27:59.729879Z",
     "iopub.status.idle": "2024-01-28T18:27:59.736345Z",
     "shell.execute_reply": "2024-01-28T18:27:59.735430Z"
    },
    "papermill": {
     "duration": 0.014391,
     "end_time": "2024-01-28T18:27:59.738047",
     "exception": false,
     "start_time": "2024-01-28T18:27:59.723656",
     "status": "completed"
    },
    "tags": []
   },
   "outputs": [],
   "source": [
    "def is_unique_algo(string1):\n",
    "    if len(string1) > 128:\n",
    "        return False\n",
    "    \n",
    "    char_set = [False] * 128\n",
    "    for char in string1:\n",
    "        val = ord(char)\n",
    "        if char_set[val]:\n",
    "            return False\n",
    "        char_set[val] = True\n",
    "        \n",
    "    return True\n",
    "\n",
    "\n",
    "\n",
    "def is_unique_pyth(string2):\n",
    "    return len(set(string2))==len(string2)\n",
    "\n",
    "\n",
    "def is_unique_dict(string: str):\n",
    "    character_counts = {}\n",
    "    for char in string:\n",
    "        if char in character_counts:\n",
    "            return False\n",
    "        character_counts[char] = 1\n",
    "    return True\n",
    "    "
   ]
  },
  {
   "cell_type": "code",
   "execution_count": 3,
   "id": "48cfdcee",
   "metadata": {
    "execution": {
     "iopub.execute_input": "2024-01-28T18:27:59.749194Z",
     "iopub.status.busy": "2024-01-28T18:27:59.748856Z",
     "iopub.status.idle": "2024-01-28T18:27:59.755306Z",
     "shell.execute_reply": "2024-01-28T18:27:59.754626Z"
    },
    "papermill": {
     "duration": 0.014053,
     "end_time": "2024-01-28T18:27:59.756803",
     "exception": false,
     "start_time": "2024-01-28T18:27:59.742750",
     "status": "completed"
    },
    "tags": []
   },
   "outputs": [
    {
     "data": {
      "text/plain": [
       "True"
      ]
     },
     "execution_count": 3,
     "metadata": {},
     "output_type": "execute_result"
    }
   ],
   "source": [
    "is_unique_dict('king')"
   ]
  },
  {
   "cell_type": "markdown",
   "id": "7ec719f3",
   "metadata": {
    "execution": {
     "iopub.execute_input": "2024-01-26T16:39:41.855434Z",
     "iopub.status.busy": "2024-01-26T16:39:41.854981Z",
     "iopub.status.idle": "2024-01-26T16:39:41.863525Z",
     "shell.execute_reply": "2024-01-26T16:39:41.861977Z",
     "shell.execute_reply.started": "2024-01-26T16:39:41.855399Z"
    },
    "papermill": {
     "duration": 0.004707,
     "end_time": "2024-01-28T18:27:59.766576",
     "exception": false,
     "start_time": "2024-01-28T18:27:59.761869",
     "status": "completed"
    },
    "tags": []
   },
   "source": [
    "#### Q2. Given two string write a method to decide if one is a permutation of the other\n",
    "##### \n"
   ]
  },
  {
   "cell_type": "code",
   "execution_count": 4,
   "id": "0aa2ec01",
   "metadata": {
    "execution": {
     "iopub.execute_input": "2024-01-28T18:27:59.778875Z",
     "iopub.status.busy": "2024-01-28T18:27:59.778218Z",
     "iopub.status.idle": "2024-01-28T18:27:59.784022Z",
     "shell.execute_reply": "2024-01-28T18:27:59.783232Z"
    },
    "papermill": {
     "duration": 0.01422,
     "end_time": "2024-01-28T18:27:59.785679",
     "exception": false,
     "start_time": "2024-01-28T18:27:59.771459",
     "status": "completed"
    },
    "tags": []
   },
   "outputs": [],
   "source": [
    "def check_perm_sort(s1,s2):\n",
    "    if len(s1) != len(s2):\n",
    "        return False\n",
    "    s1,s2 = sorted(s1),sorted(s2)\n",
    "    for i in range(len(s1)):\n",
    "        if s1[i] != s2[i]:\n",
    "            return False\n",
    "    return True\n",
    "\n",
    "\n",
    "def check_permutation_pyth(str1,str2):\n",
    "    if len(str1)!=len(str2):\n",
    "        return False\n",
    "    from collections import Counter\n",
    "    return Counter(str1) == Counter(str2)\n"
   ]
  },
  {
   "cell_type": "code",
   "execution_count": 5,
   "id": "739a0c73",
   "metadata": {
    "execution": {
     "iopub.execute_input": "2024-01-28T18:27:59.797350Z",
     "iopub.status.busy": "2024-01-28T18:27:59.797008Z",
     "iopub.status.idle": "2024-01-28T18:27:59.802707Z",
     "shell.execute_reply": "2024-01-28T18:27:59.801921Z"
    },
    "papermill": {
     "duration": 0.013501,
     "end_time": "2024-01-28T18:27:59.804250",
     "exception": false,
     "start_time": "2024-01-28T18:27:59.790749",
     "status": "completed"
    },
    "tags": []
   },
   "outputs": [
    {
     "data": {
      "text/plain": [
       "False"
      ]
     },
     "execution_count": 5,
     "metadata": {},
     "output_type": "execute_result"
    }
   ],
   "source": [
    "check_permutation_pyth('QUick','Qkciu')"
   ]
  },
  {
   "cell_type": "markdown",
   "id": "5604b09a",
   "metadata": {
    "execution": {
     "iopub.execute_input": "2024-01-26T16:50:16.040903Z",
     "iopub.status.busy": "2024-01-26T16:50:16.039734Z",
     "iopub.status.idle": "2024-01-26T16:50:16.048146Z",
     "shell.execute_reply": "2024-01-26T16:50:16.046722Z",
     "shell.execute_reply.started": "2024-01-26T16:50:16.040865Z"
    },
    "papermill": {
     "duration": 0.004738,
     "end_time": "2024-01-28T18:27:59.813916",
     "exception": false,
     "start_time": "2024-01-28T18:27:59.809178",
     "status": "completed"
    },
    "tags": []
   },
   "source": [
    "#### Q3. Write a methode to replace all space with %20  a.k.a   urlify"
   ]
  },
  {
   "cell_type": "code",
   "execution_count": 6,
   "id": "2cbcb7b3",
   "metadata": {
    "execution": {
     "iopub.execute_input": "2024-01-28T18:27:59.826731Z",
     "iopub.status.busy": "2024-01-28T18:27:59.826161Z",
     "iopub.status.idle": "2024-01-28T18:27:59.832993Z",
     "shell.execute_reply": "2024-01-28T18:27:59.831945Z"
    },
    "papermill": {
     "duration": 0.016269,
     "end_time": "2024-01-28T18:27:59.835226",
     "exception": false,
     "start_time": "2024-01-28T18:27:59.818957",
     "status": "completed"
    },
    "tags": []
   },
   "outputs": [],
   "source": [
    "def urlify_algo(text,leng):\n",
    "    char_lst = list(text)\n",
    "    new_index = len(char_lst)\n",
    "    \n",
    "    for i in reversed(range(leng)):\n",
    "        if char_lst[i] == \" \":\n",
    "            char_lst[new_index - 3 :new_index] = \"%20\"\n",
    "            new_index -=3\n",
    "        else:\n",
    "            char_lst[new_index-1]= char_lst[i]\n",
    "            new_index -= 1\n",
    "    print(char_lst)\n",
    "    print(new_index)\n",
    "    return \"\".join(char_lst[new_index:])\n",
    "\n",
    "def urlify_pyth(text,leng):\n",
    "    return text[:leng].replace(\" \",\"%20\")\n"
   ]
  },
  {
   "cell_type": "code",
   "execution_count": 7,
   "id": "e76b21f1",
   "metadata": {
    "execution": {
     "iopub.execute_input": "2024-01-28T18:27:59.846930Z",
     "iopub.status.busy": "2024-01-28T18:27:59.846649Z",
     "iopub.status.idle": "2024-01-28T18:27:59.853505Z",
     "shell.execute_reply": "2024-01-28T18:27:59.852548Z"
    },
    "papermill": {
     "duration": 0.01452,
     "end_time": "2024-01-28T18:27:59.855149",
     "exception": false,
     "start_time": "2024-01-28T18:27:59.840629",
     "status": "completed"
    },
    "tags": []
   },
   "outputs": [
    {
     "name": "stdout",
     "output_type": "stream",
     "text": [
      "['2', '%', '2', '%', '2', '%', '2', '0', 'b', 'a', '2', '%']\n",
      "-2\n"
     ]
    },
    {
     "data": {
      "text/plain": [
       "'2%'"
      ]
     },
     "execution_count": 7,
     "metadata": {},
     "output_type": "execute_result"
    }
   ],
   "source": [
    "urlify_algo('king is back',12)"
   ]
  },
  {
   "cell_type": "markdown",
   "id": "aba40fee",
   "metadata": {
    "papermill": {
     "duration": 0.004958,
     "end_time": "2024-01-28T18:27:59.865882",
     "exception": false,
     "start_time": "2024-01-28T18:27:59.860924",
     "status": "completed"
    },
    "tags": []
   },
   "source": [
    "#### Q4 Palindrome permutation "
   ]
  },
  {
   "cell_type": "code",
   "execution_count": 8,
   "id": "78368bc4",
   "metadata": {
    "execution": {
     "iopub.execute_input": "2024-01-28T18:27:59.877712Z",
     "iopub.status.busy": "2024-01-28T18:27:59.877100Z",
     "iopub.status.idle": "2024-01-28T18:27:59.882526Z",
     "shell.execute_reply": "2024-01-28T18:27:59.881828Z"
    },
    "papermill": {
     "duration": 0.013163,
     "end_time": "2024-01-28T18:27:59.884037",
     "exception": false,
     "start_time": "2024-01-28T18:27:59.870874",
     "status": "completed"
    },
    "tags": []
   },
   "outputs": [],
   "source": [
    "\n",
    "def is_palindrome_permutation_pythonic(phrase):\n",
    "    \"\"\"function checks if a string is a permutation of a palindrome or not\"\"\"\n",
    "    from collections import Counter\n",
    "    counter = Counter(clean_phrase(phrase))\n",
    "    print(clean_phrase(phrase))\n",
    "    return sum(val % 2 for val in counter.values()) <= 1\n",
    "import string\n",
    "def clean_phrase(phrase):\n",
    "    return [c for c in phrase.lower() if c in string.ascii_lowercase]\n",
    "\n",
    "\n",
    "\n"
   ]
  },
  {
   "cell_type": "code",
   "execution_count": 9,
   "id": "372cc8ec",
   "metadata": {
    "execution": {
     "iopub.execute_input": "2024-01-28T18:27:59.895908Z",
     "iopub.status.busy": "2024-01-28T18:27:59.895590Z",
     "iopub.status.idle": "2024-01-28T18:27:59.901241Z",
     "shell.execute_reply": "2024-01-28T18:27:59.900399Z"
    },
    "papermill": {
     "duration": 0.014382,
     "end_time": "2024-01-28T18:27:59.903556",
     "exception": false,
     "start_time": "2024-01-28T18:27:59.889174",
     "status": "completed"
    },
    "tags": []
   },
   "outputs": [
    {
     "name": "stdout",
     "output_type": "stream",
     "text": [
      "['t', 'a', 'c', 'o', 'c', 'a', 't']\n"
     ]
    },
    {
     "data": {
      "text/plain": [
       "True"
      ]
     },
     "execution_count": 9,
     "metadata": {},
     "output_type": "execute_result"
    }
   ],
   "source": [
    "is_palindrome_permutation_pythonic('Taco cat')"
   ]
  },
  {
   "cell_type": "code",
   "execution_count": 10,
   "id": "bb0a8c34",
   "metadata": {
    "execution": {
     "iopub.execute_input": "2024-01-28T18:27:59.917289Z",
     "iopub.status.busy": "2024-01-28T18:27:59.916763Z",
     "iopub.status.idle": "2024-01-28T18:27:59.923306Z",
     "shell.execute_reply": "2024-01-28T18:27:59.922615Z"
    },
    "papermill": {
     "duration": 0.015792,
     "end_time": "2024-01-28T18:27:59.925394",
     "exception": false,
     "start_time": "2024-01-28T18:27:59.909602",
     "status": "completed"
    },
    "tags": []
   },
   "outputs": [],
   "source": [
    "def char_number(c):\n",
    "    a = ord(\"a\")\n",
    "    z = ord(\"z\")\n",
    "    upper_a = ord(\"A\")\n",
    "    upper_z = ord(\"Z\")\n",
    "    val = ord(c)\n",
    "\n",
    "    if a <= val <= z:\n",
    "        return val - a\n",
    "\n",
    "    if upper_a <= val <= upper_z:\n",
    "        return val - upper_a\n",
    "    return -1\n",
    "\n",
    "def is_palindrome_permutation(phrase):\n",
    "    \"\"\"checks if a string is a permutation of a palindrome\"\"\"\n",
    "    table = [0 for _ in range(ord(\"z\") - ord(\"a\") + 1)]\n",
    "    countodd = 0\n",
    "    for c in phrase:\n",
    "        x = char_number(c)\n",
    "        if x != -1:\n",
    "            table[x] += 1\n",
    "            if table[x] % 2:\n",
    "                countodd += 1\n",
    "            else:\n",
    "                countodd -= 1\n",
    "\n",
    "    return countodd <= 1\n"
   ]
  },
  {
   "cell_type": "markdown",
   "id": "a89b0037",
   "metadata": {
    "execution": {
     "iopub.execute_input": "2024-01-28T17:26:38.707987Z",
     "iopub.status.busy": "2024-01-28T17:26:38.707282Z",
     "iopub.status.idle": "2024-01-28T17:26:38.714773Z",
     "shell.execute_reply": "2024-01-28T17:26:38.713651Z",
     "shell.execute_reply.started": "2024-01-28T17:26:38.707954Z"
    },
    "papermill": {
     "duration": 0.0056,
     "end_time": "2024-01-28T18:27:59.937185",
     "exception": false,
     "start_time": "2024-01-28T18:27:59.931585",
     "status": "completed"
    },
    "tags": []
   },
   "source": [
    "#### Q.5 One away\n",
    "\n",
    "There are 3 types of edit can be done in a string..  \n",
    "1. Replace a char\n",
    "2. remove a char\n",
    "3. insert a char\n",
    "\n",
    "check if one of this is one step away of another"
   ]
  },
  {
   "cell_type": "code",
   "execution_count": 11,
   "id": "105c972c",
   "metadata": {
    "execution": {
     "iopub.execute_input": "2024-01-28T18:27:59.950840Z",
     "iopub.status.busy": "2024-01-28T18:27:59.950253Z",
     "iopub.status.idle": "2024-01-28T18:27:59.957821Z",
     "shell.execute_reply": "2024-01-28T18:27:59.957111Z"
    },
    "papermill": {
     "duration": 0.016911,
     "end_time": "2024-01-28T18:27:59.959988",
     "exception": false,
     "start_time": "2024-01-28T18:27:59.943077",
     "status": "completed"
    },
    "tags": []
   },
   "outputs": [],
   "source": [
    "def are_one_away(str1,str2):\n",
    "    if len(str1) == len(str2):\n",
    "        return one_replace_away(str1,str2)\n",
    "    if len(str1) + 1 == len(str2):\n",
    "        return one_remove_way(str1,str2)\n",
    "    if len(str1) - 1 == len(str2):\n",
    "        return one_remove_way(str1,str2)\n",
    "    return False\n",
    "\n",
    "def one_replace_away(str1,str2):\n",
    "    edited = False\n",
    "    for c1,c2 in zip(str1,str2):\n",
    "        if c1!= c2:\n",
    "            if edited:\n",
    "                return False\n",
    "            edited = True\n",
    "    return True\n",
    "\n",
    "\n",
    "def one_remove_way(str1,str2):\n",
    "    edited = False\n",
    "    i,j = 0,0\n",
    "    while i < len(str1) and j < len(str2):\n",
    "        if str1[i] != str2[j]:\n",
    "            if edited:\n",
    "                return False\n",
    "            edited = True\n",
    "            j +=1\n",
    "        else:\n",
    "            i +=1\n",
    "            j +=1\n",
    "            \n",
    "    return True\n",
    "            "
   ]
  },
  {
   "cell_type": "code",
   "execution_count": 12,
   "id": "8f0fcfdb",
   "metadata": {
    "execution": {
     "iopub.execute_input": "2024-01-28T18:27:59.974228Z",
     "iopub.status.busy": "2024-01-28T18:27:59.973736Z",
     "iopub.status.idle": "2024-01-28T18:27:59.978362Z",
     "shell.execute_reply": "2024-01-28T18:27:59.977510Z"
    },
    "papermill": {
     "duration": 0.013604,
     "end_time": "2024-01-28T18:27:59.980066",
     "exception": false,
     "start_time": "2024-01-28T18:27:59.966462",
     "status": "completed"
    },
    "tags": []
   },
   "outputs": [
    {
     "name": "stdout",
     "output_type": "stream",
     "text": [
      "('c', 't')\n",
      "('u', 'u')\n",
      "('b', 'b')\n",
      "('e', 'e')\n"
     ]
    }
   ],
   "source": [
    "for i in zip(\"cube\",\"tube\"):\n",
    "    print(i)"
   ]
  },
  {
   "cell_type": "markdown",
   "id": "c03cbd34",
   "metadata": {
    "papermill": {
     "duration": 0.005403,
     "end_time": "2024-01-28T18:27:59.991210",
     "exception": false,
     "start_time": "2024-01-28T18:27:59.985807",
     "status": "completed"
    },
    "tags": []
   },
   "source": [
    "#### Q6 String Compression\n",
    "\n",
    "A method to implement a basic string compression as in count of repeating chars.\n",
    "\n",
    "aaabbcccdd will become a3b2c3d2\n",
    "\n",
    "If compression isnt saving space it shud revert original.\n",
    "\n",
    "assumpstion: Only Lowercase and Uppercase in the string"
   ]
  },
  {
   "cell_type": "code",
   "execution_count": 13,
   "id": "e096053c",
   "metadata": {
    "execution": {
     "iopub.execute_input": "2024-01-28T18:28:00.004716Z",
     "iopub.status.busy": "2024-01-28T18:28:00.004321Z",
     "iopub.status.idle": "2024-01-28T18:28:00.010148Z",
     "shell.execute_reply": "2024-01-28T18:28:00.009098Z"
    },
    "papermill": {
     "duration": 0.014862,
     "end_time": "2024-01-28T18:28:00.011900",
     "exception": false,
     "start_time": "2024-01-28T18:27:59.997038",
     "status": "completed"
    },
    "tags": []
   },
   "outputs": [],
   "source": [
    "def compress_str(strng):\n",
    "    compress = []\n",
    "    counter= 0\n",
    "    \n",
    "    for i in range(len(strng)):\n",
    "        if i!=0 and strng[1] != strng[i-1]:\n",
    "            compress.append(strng[i-1] + str(counter))\n",
    "            counter = 0\n",
    "        counter +=1\n",
    "        \n",
    "    if counter:\n",
    "        compress.append(strng[-1] + str(counter))\n",
    "        \n",
    "    return min(\"\".join(compress), key=len)"
   ]
  },
  {
   "cell_type": "code",
   "execution_count": 14,
   "id": "9f725de7",
   "metadata": {
    "execution": {
     "iopub.execute_input": "2024-01-28T18:28:00.026911Z",
     "iopub.status.busy": "2024-01-28T18:28:00.025955Z",
     "iopub.status.idle": "2024-01-28T18:28:00.033489Z",
     "shell.execute_reply": "2024-01-28T18:28:00.032212Z"
    },
    "papermill": {
     "duration": 0.017396,
     "end_time": "2024-01-28T18:28:00.035326",
     "exception": false,
     "start_time": "2024-01-28T18:28:00.017930",
     "status": "completed"
    },
    "tags": []
   },
   "outputs": [
    {
     "data": {
      "text/plain": [
       "'b'"
      ]
     },
     "execution_count": 14,
     "metadata": {},
     "output_type": "execute_result"
    }
   ],
   "source": [
    "compress_str(\"aaabbcccdd\")"
   ]
  },
  {
   "cell_type": "code",
   "execution_count": null,
   "id": "5694d97f",
   "metadata": {
    "papermill": {
     "duration": 0.005484,
     "end_time": "2024-01-28T18:28:00.046815",
     "exception": false,
     "start_time": "2024-01-28T18:28:00.041331",
     "status": "completed"
    },
    "tags": []
   },
   "outputs": [],
   "source": []
  }
 ],
 "metadata": {
  "kaggle": {
   "accelerator": "none",
   "dataSources": [],
   "dockerImageVersionId": 30635,
   "isGpuEnabled": false,
   "isInternetEnabled": true,
   "language": "python",
   "sourceType": "notebook"
  },
  "kernelspec": {
   "display_name": "Python 3",
   "language": "python",
   "name": "python3"
  },
  "language_info": {
   "codemirror_mode": {
    "name": "ipython",
    "version": 3
   },
   "file_extension": ".py",
   "mimetype": "text/x-python",
   "name": "python",
   "nbconvert_exporter": "python",
   "pygments_lexer": "ipython3",
   "version": "3.10.12"
  },
  "papermill": {
   "default_parameters": {},
   "duration": 3.573329,
   "end_time": "2024-01-28T18:28:00.471630",
   "environment_variables": {},
   "exception": null,
   "input_path": "__notebook__.ipynb",
   "output_path": "__notebook__.ipynb",
   "parameters": {},
   "start_time": "2024-01-28T18:27:56.898301",
   "version": "2.4.0"
  }
 },
 "nbformat": 4,
 "nbformat_minor": 5
}
