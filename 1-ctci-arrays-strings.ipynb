{
 "cells": [
  {
   "cell_type": "code",
   "execution_count": 1,
   "id": "afd77ba4",
   "metadata": {
    "_cell_guid": "b1076dfc-b9ad-4769-8c92-a6c4dae69d19",
    "_uuid": "8f2839f25d086af736a60e9eeb907d3b93b6e0e5",
    "execution": {
     "iopub.execute_input": "2024-01-28T20:04:03.651387Z",
     "iopub.status.busy": "2024-01-28T20:04:03.650877Z",
     "iopub.status.idle": "2024-01-28T20:04:04.021321Z",
     "shell.execute_reply": "2024-01-28T20:04:04.020276Z"
    },
    "papermill": {
     "duration": 0.383554,
     "end_time": "2024-01-28T20:04:04.024117",
     "exception": false,
     "start_time": "2024-01-28T20:04:03.640563",
     "status": "completed"
    },
    "tags": []
   },
   "outputs": [],
   "source": [
    "# This Python 3 environment comes with many helpful analytics libraries installed\n",
    "# It is defined by the kaggle/python Docker image: https://github.com/kaggle/docker-python\n",
    "# For example, here's several helpful packages to load\n",
    "\n",
    "import numpy as np # linear algebra\n",
    "import pandas as pd # data processing, CSV file I/O (e.g. pd.read_csv)\n",
    "\n",
    "# Input data files are available in the read-only \"../input/\" directory\n",
    "# For example, running this (by clicking run or pressing Shift+Enter) will list all files under the input directory\n",
    "\n",
    "import os\n",
    "for dirname, _, filenames in os.walk('/kaggle/input'):\n",
    "    for filename in filenames:\n",
    "        print(os.path.join(dirname, filename))\n",
    "\n",
    "# You can write up to 20GB to the current directory (/kaggle/working/) that gets preserved as output when you create a version using \"Save & Run All\" \n",
    "# You can also write temporary files to /kaggle/temp/, but they won't be saved outside of the current session"
   ]
  },
  {
   "cell_type": "markdown",
   "id": "beaab19c",
   "metadata": {
    "papermill": {
     "duration": 0.007849,
     "end_time": "2024-01-28T20:04:04.040718",
     "exception": false,
     "start_time": "2024-01-28T20:04:04.032869",
     "status": "completed"
    },
    "tags": []
   },
   "source": [
    "### Hash Tables"
   ]
  },
  {
   "cell_type": "markdown",
   "id": "a1c6f746",
   "metadata": {
    "papermill": {
     "duration": 0.007592,
     "end_time": "2024-01-28T20:04:04.056050",
     "exception": false,
     "start_time": "2024-01-28T20:04:04.048458",
     "status": "completed"
    },
    "tags": []
   },
   "source": [
    "Value to keys in highly efficient look ups...\n",
    "1. compute keys hash code\n",
    "2. Map the hash code to the index in the array\n",
    "3. store keys and values (linked list of keys and values) in Index\n",
    "\n",
    "\n",
    "hi --> 10320 --> 0 |\n",
    "abc--> 980   --> 0 --> hi --> abc \n",
    "\n",
    "\n",
    "\n",
    "\n",
    "\n"
   ]
  },
  {
   "cell_type": "markdown",
   "id": "2dcc5a81",
   "metadata": {
    "papermill": {
     "duration": 0.00754,
     "end_time": "2024-01-28T20:04:04.071463",
     "exception": false,
     "start_time": "2024-01-28T20:04:04.063923",
     "status": "completed"
    },
    "tags": []
   },
   "source": [
    "### Array List & Resizable Array"
   ]
  },
  {
   "cell_type": "markdown",
   "id": "98948f12",
   "metadata": {
    "papermill": {
     "duration": 0.007387,
     "end_time": "2024-01-28T20:04:04.086646",
     "exception": false,
     "start_time": "2024-01-28T20:04:04.079259",
     "status": "completed"
    },
    "tags": []
   },
   "source": [
    "Arrays are list in some languages. Array or a list will grow as you append. arrays are fixed in Java. \n",
    "\n",
    "When you need an array like data strcuture that dynamically resizes, You would use arrayList.\n",
    "\n",
    "\n"
   ]
  },
  {
   "cell_type": "markdown",
   "id": "80741bd3",
   "metadata": {
    "papermill": {
     "duration": 0.007206,
     "end_time": "2024-01-28T20:04:04.101707",
     "exception": false,
     "start_time": "2024-01-28T20:04:04.094501",
     "status": "completed"
    },
    "tags": []
   },
   "source": [
    "### String Builder\n",
    "\n",
    "For Concatenating a list of strings... On each concaterating, new copy of a string is created..  1x --> 2x --> 3x  =  O(x+2x+..+nx) = O(n power2 x)\n",
    "\n",
    "String builder can avoid this problem.\n",
    "\n",
    "If Resizable arrays of all string are built and copied whenevr neccesary. That is String Builder.\n",
    "\n"
   ]
  },
  {
   "cell_type": "markdown",
   "id": "d7a430dc",
   "metadata": {
    "papermill": {
     "duration": 0.007165,
     "end_time": "2024-01-28T20:04:04.116734",
     "exception": false,
     "start_time": "2024-01-28T20:04:04.109569",
     "status": "completed"
    },
    "tags": []
   },
   "source": [
    "#### Q1 Implement an Alogorithm to determine if a string has all unique charecter.\n",
    "\n",
    "##### Alternative usecase : Cant use additional data structures.."
   ]
  },
  {
   "cell_type": "code",
   "execution_count": 2,
   "id": "d4d8048a",
   "metadata": {
    "execution": {
     "iopub.execute_input": "2024-01-28T20:04:04.133415Z",
     "iopub.status.busy": "2024-01-28T20:04:04.132932Z",
     "iopub.status.idle": "2024-01-28T20:04:04.140561Z",
     "shell.execute_reply": "2024-01-28T20:04:04.139358Z"
    },
    "papermill": {
     "duration": 0.018529,
     "end_time": "2024-01-28T20:04:04.142730",
     "exception": false,
     "start_time": "2024-01-28T20:04:04.124201",
     "status": "completed"
    },
    "tags": []
   },
   "outputs": [],
   "source": [
    "def is_unique_algo(string1):\n",
    "    if len(string1) > 128:\n",
    "        return False\n",
    "    \n",
    "    char_set = [False] * 128\n",
    "    for char in string1:\n",
    "        val = ord(char)\n",
    "        if char_set[val]:\n",
    "            return False\n",
    "        char_set[val] = True\n",
    "        \n",
    "    return True\n",
    "\n",
    "\n",
    "\n",
    "def is_unique_pyth(string2):\n",
    "    return len(set(string2))==len(string2)\n",
    "\n",
    "\n",
    "def is_unique_dict(string: str):\n",
    "    character_counts = {}\n",
    "    for char in string:\n",
    "        if char in character_counts:\n",
    "            return False\n",
    "        character_counts[char] = 1\n",
    "    return True\n",
    "    "
   ]
  },
  {
   "cell_type": "code",
   "execution_count": 3,
   "id": "815711ca",
   "metadata": {
    "execution": {
     "iopub.execute_input": "2024-01-28T20:04:04.159898Z",
     "iopub.status.busy": "2024-01-28T20:04:04.159040Z",
     "iopub.status.idle": "2024-01-28T20:04:04.165775Z",
     "shell.execute_reply": "2024-01-28T20:04:04.165019Z"
    },
    "papermill": {
     "duration": 0.017259,
     "end_time": "2024-01-28T20:04:04.167577",
     "exception": false,
     "start_time": "2024-01-28T20:04:04.150318",
     "status": "completed"
    },
    "tags": []
   },
   "outputs": [
    {
     "data": {
      "text/plain": [
       "True"
      ]
     },
     "execution_count": 3,
     "metadata": {},
     "output_type": "execute_result"
    }
   ],
   "source": [
    "is_unique_dict('king')"
   ]
  },
  {
   "cell_type": "markdown",
   "id": "c570dd8c",
   "metadata": {
    "execution": {
     "iopub.execute_input": "2024-01-26T16:39:41.855434Z",
     "iopub.status.busy": "2024-01-26T16:39:41.854981Z",
     "iopub.status.idle": "2024-01-26T16:39:41.863525Z",
     "shell.execute_reply": "2024-01-26T16:39:41.861977Z",
     "shell.execute_reply.started": "2024-01-26T16:39:41.855399Z"
    },
    "papermill": {
     "duration": 0.007832,
     "end_time": "2024-01-28T20:04:04.183030",
     "exception": false,
     "start_time": "2024-01-28T20:04:04.175198",
     "status": "completed"
    },
    "tags": []
   },
   "source": [
    "#### Q2. Given two string write a method to decide if one is a permutation of the other\n",
    "##### \n"
   ]
  },
  {
   "cell_type": "code",
   "execution_count": 4,
   "id": "c7d215f4",
   "metadata": {
    "execution": {
     "iopub.execute_input": "2024-01-28T20:04:04.200510Z",
     "iopub.status.busy": "2024-01-28T20:04:04.200112Z",
     "iopub.status.idle": "2024-01-28T20:04:04.206338Z",
     "shell.execute_reply": "2024-01-28T20:04:04.205207Z"
    },
    "papermill": {
     "duration": 0.017072,
     "end_time": "2024-01-28T20:04:04.208306",
     "exception": false,
     "start_time": "2024-01-28T20:04:04.191234",
     "status": "completed"
    },
    "tags": []
   },
   "outputs": [],
   "source": [
    "def check_perm_sort(s1,s2):\n",
    "    if len(s1) != len(s2):\n",
    "        return False\n",
    "    s1,s2 = sorted(s1),sorted(s2)\n",
    "    for i in range(len(s1)):\n",
    "        if s1[i] != s2[i]:\n",
    "            return False\n",
    "    return True\n",
    "\n",
    "\n",
    "def check_permutation_pyth(str1,str2):\n",
    "    if len(str1)!=len(str2):\n",
    "        return False\n",
    "    from collections import Counter\n",
    "    return Counter(str1) == Counter(str2)\n"
   ]
  },
  {
   "cell_type": "code",
   "execution_count": 5,
   "id": "7348ee86",
   "metadata": {
    "execution": {
     "iopub.execute_input": "2024-01-28T20:04:04.225366Z",
     "iopub.status.busy": "2024-01-28T20:04:04.225001Z",
     "iopub.status.idle": "2024-01-28T20:04:04.230990Z",
     "shell.execute_reply": "2024-01-28T20:04:04.230186Z"
    },
    "papermill": {
     "duration": 0.016547,
     "end_time": "2024-01-28T20:04:04.232830",
     "exception": false,
     "start_time": "2024-01-28T20:04:04.216283",
     "status": "completed"
    },
    "tags": []
   },
   "outputs": [
    {
     "data": {
      "text/plain": [
       "False"
      ]
     },
     "execution_count": 5,
     "metadata": {},
     "output_type": "execute_result"
    }
   ],
   "source": [
    "check_permutation_pyth('QUick','Qkciu')"
   ]
  },
  {
   "cell_type": "markdown",
   "id": "b2251561",
   "metadata": {
    "execution": {
     "iopub.execute_input": "2024-01-26T16:50:16.040903Z",
     "iopub.status.busy": "2024-01-26T16:50:16.039734Z",
     "iopub.status.idle": "2024-01-26T16:50:16.048146Z",
     "shell.execute_reply": "2024-01-26T16:50:16.046722Z",
     "shell.execute_reply.started": "2024-01-26T16:50:16.040865Z"
    },
    "papermill": {
     "duration": 0.00787,
     "end_time": "2024-01-28T20:04:04.248323",
     "exception": false,
     "start_time": "2024-01-28T20:04:04.240453",
     "status": "completed"
    },
    "tags": []
   },
   "source": [
    "#### Q3. Write a methode to replace all space with %20  a.k.a   urlify"
   ]
  },
  {
   "cell_type": "code",
   "execution_count": 6,
   "id": "803e3b99",
   "metadata": {
    "execution": {
     "iopub.execute_input": "2024-01-28T20:04:04.266101Z",
     "iopub.status.busy": "2024-01-28T20:04:04.265443Z",
     "iopub.status.idle": "2024-01-28T20:04:04.272106Z",
     "shell.execute_reply": "2024-01-28T20:04:04.271288Z"
    },
    "papermill": {
     "duration": 0.018296,
     "end_time": "2024-01-28T20:04:04.274264",
     "exception": false,
     "start_time": "2024-01-28T20:04:04.255968",
     "status": "completed"
    },
    "tags": []
   },
   "outputs": [],
   "source": [
    "def urlify_algo(text,leng):\n",
    "    char_lst = list(text)\n",
    "    new_index = len(char_lst)\n",
    "    \n",
    "    for i in reversed(range(leng)):\n",
    "        if char_lst[i] == \" \":\n",
    "            char_lst[new_index - 3 :new_index] = \"%20\"\n",
    "            new_index -=3\n",
    "        else:\n",
    "            char_lst[new_index-1]= char_lst[i]\n",
    "            new_index -= 1\n",
    "    print(char_lst)\n",
    "    print(new_index)\n",
    "    return \"\".join(char_lst[new_index:])\n",
    "\n",
    "def urlify_pyth(text,leng):\n",
    "    return text[:leng].replace(\" \",\"%20\")\n"
   ]
  },
  {
   "cell_type": "code",
   "execution_count": 7,
   "id": "5fac463e",
   "metadata": {
    "execution": {
     "iopub.execute_input": "2024-01-28T20:04:04.292595Z",
     "iopub.status.busy": "2024-01-28T20:04:04.291954Z",
     "iopub.status.idle": "2024-01-28T20:04:04.299069Z",
     "shell.execute_reply": "2024-01-28T20:04:04.298289Z"
    },
    "papermill": {
     "duration": 0.018952,
     "end_time": "2024-01-28T20:04:04.301350",
     "exception": false,
     "start_time": "2024-01-28T20:04:04.282398",
     "status": "completed"
    },
    "tags": []
   },
   "outputs": [
    {
     "name": "stdout",
     "output_type": "stream",
     "text": [
      "['2', '%', '2', '%', '2', '%', '2', '0', 'b', 'a', '2', '%']\n",
      "-2\n"
     ]
    },
    {
     "data": {
      "text/plain": [
       "'2%'"
      ]
     },
     "execution_count": 7,
     "metadata": {},
     "output_type": "execute_result"
    }
   ],
   "source": [
    "urlify_algo('king is back',12)"
   ]
  },
  {
   "cell_type": "markdown",
   "id": "f0dd75e7",
   "metadata": {
    "papermill": {
     "duration": 0.008063,
     "end_time": "2024-01-28T20:04:04.318070",
     "exception": false,
     "start_time": "2024-01-28T20:04:04.310007",
     "status": "completed"
    },
    "tags": []
   },
   "source": [
    "#### Q4 Palindrome permutation "
   ]
  },
  {
   "cell_type": "code",
   "execution_count": 8,
   "id": "328a0661",
   "metadata": {
    "execution": {
     "iopub.execute_input": "2024-01-28T20:04:04.336642Z",
     "iopub.status.busy": "2024-01-28T20:04:04.335811Z",
     "iopub.status.idle": "2024-01-28T20:04:04.341772Z",
     "shell.execute_reply": "2024-01-28T20:04:04.340969Z"
    },
    "papermill": {
     "duration": 0.017638,
     "end_time": "2024-01-28T20:04:04.343731",
     "exception": false,
     "start_time": "2024-01-28T20:04:04.326093",
     "status": "completed"
    },
    "tags": []
   },
   "outputs": [],
   "source": [
    "\n",
    "def is_palindrome_permutation_pythonic(phrase):\n",
    "    \"\"\"function checks if a string is a permutation of a palindrome or not\"\"\"\n",
    "    from collections import Counter\n",
    "    counter = Counter(clean_phrase(phrase))\n",
    "    print(clean_phrase(phrase))\n",
    "    return sum(val % 2 for val in counter.values()) <= 1\n",
    "import string\n",
    "def clean_phrase(phrase):\n",
    "    return [c for c in phrase.lower() if c in string.ascii_lowercase]\n",
    "\n",
    "\n",
    "\n"
   ]
  },
  {
   "cell_type": "code",
   "execution_count": 9,
   "id": "c88d4620",
   "metadata": {
    "execution": {
     "iopub.execute_input": "2024-01-28T20:04:04.361909Z",
     "iopub.status.busy": "2024-01-28T20:04:04.361222Z",
     "iopub.status.idle": "2024-01-28T20:04:04.367357Z",
     "shell.execute_reply": "2024-01-28T20:04:04.366605Z"
    },
    "papermill": {
     "duration": 0.01721,
     "end_time": "2024-01-28T20:04:04.369099",
     "exception": false,
     "start_time": "2024-01-28T20:04:04.351889",
     "status": "completed"
    },
    "tags": []
   },
   "outputs": [
    {
     "name": "stdout",
     "output_type": "stream",
     "text": [
      "['t', 'a', 'c', 'o', 'c', 'a', 't']\n"
     ]
    },
    {
     "data": {
      "text/plain": [
       "True"
      ]
     },
     "execution_count": 9,
     "metadata": {},
     "output_type": "execute_result"
    }
   ],
   "source": [
    "is_palindrome_permutation_pythonic('Taco cat')"
   ]
  },
  {
   "cell_type": "code",
   "execution_count": 10,
   "id": "387975c7",
   "metadata": {
    "execution": {
     "iopub.execute_input": "2024-01-28T20:04:04.387822Z",
     "iopub.status.busy": "2024-01-28T20:04:04.387114Z",
     "iopub.status.idle": "2024-01-28T20:04:04.393927Z",
     "shell.execute_reply": "2024-01-28T20:04:04.393200Z"
    },
    "papermill": {
     "duration": 0.018381,
     "end_time": "2024-01-28T20:04:04.395924",
     "exception": false,
     "start_time": "2024-01-28T20:04:04.377543",
     "status": "completed"
    },
    "tags": []
   },
   "outputs": [],
   "source": [
    "def char_number(c):\n",
    "    a = ord(\"a\")\n",
    "    z = ord(\"z\")\n",
    "    upper_a = ord(\"A\")\n",
    "    upper_z = ord(\"Z\")\n",
    "    val = ord(c)\n",
    "\n",
    "    if a <= val <= z:\n",
    "        return val - a\n",
    "\n",
    "    if upper_a <= val <= upper_z:\n",
    "        return val - upper_a\n",
    "    return -1\n",
    "\n",
    "def is_palindrome_permutation(phrase):\n",
    "    \"\"\"checks if a string is a permutation of a palindrome\"\"\"\n",
    "    table = [0 for _ in range(ord(\"z\") - ord(\"a\") + 1)]\n",
    "    countodd = 0\n",
    "    for c in phrase:\n",
    "        x = char_number(c)\n",
    "        if x != -1:\n",
    "            table[x] += 1\n",
    "            if table[x] % 2:\n",
    "                countodd += 1\n",
    "            else:\n",
    "                countodd -= 1\n",
    "\n",
    "    return countodd <= 1\n"
   ]
  },
  {
   "cell_type": "markdown",
   "id": "4ed19bcb",
   "metadata": {
    "execution": {
     "iopub.execute_input": "2024-01-28T17:26:38.707987Z",
     "iopub.status.busy": "2024-01-28T17:26:38.707282Z",
     "iopub.status.idle": "2024-01-28T17:26:38.714773Z",
     "shell.execute_reply": "2024-01-28T17:26:38.713651Z",
     "shell.execute_reply.started": "2024-01-28T17:26:38.707954Z"
    },
    "papermill": {
     "duration": 0.00802,
     "end_time": "2024-01-28T20:04:04.412480",
     "exception": false,
     "start_time": "2024-01-28T20:04:04.404460",
     "status": "completed"
    },
    "tags": []
   },
   "source": [
    "#### Q.5 One away\n",
    "\n",
    "There are 3 types of edit can be done in a string..  \n",
    "1. Replace a char\n",
    "2. remove a char\n",
    "3. insert a char\n",
    "\n",
    "check if one of this is one step away of another"
   ]
  },
  {
   "cell_type": "code",
   "execution_count": 11,
   "id": "b9d6e60b",
   "metadata": {
    "execution": {
     "iopub.execute_input": "2024-01-28T20:04:04.431138Z",
     "iopub.status.busy": "2024-01-28T20:04:04.430738Z",
     "iopub.status.idle": "2024-01-28T20:04:04.438792Z",
     "shell.execute_reply": "2024-01-28T20:04:04.437815Z"
    },
    "papermill": {
     "duration": 0.019696,
     "end_time": "2024-01-28T20:04:04.440732",
     "exception": false,
     "start_time": "2024-01-28T20:04:04.421036",
     "status": "completed"
    },
    "tags": []
   },
   "outputs": [],
   "source": [
    "def are_one_away(str1,str2):\n",
    "    if len(str1) == len(str2):\n",
    "        return one_replace_away(str1,str2)\n",
    "    if len(str1) + 1 == len(str2):\n",
    "        return one_remove_way(str1,str2)\n",
    "    if len(str1) - 1 == len(str2):\n",
    "        return one_remove_way(str1,str2)\n",
    "    return False\n",
    "\n",
    "def one_replace_away(str1,str2):\n",
    "    edited = False\n",
    "    for c1,c2 in zip(str1,str2):\n",
    "        if c1!= c2:\n",
    "            if edited:\n",
    "                return False\n",
    "            edited = True\n",
    "    return True\n",
    "\n",
    "\n",
    "def one_remove_way(str1,str2):\n",
    "    edited = False\n",
    "    i,j = 0,0\n",
    "    while i < len(str1) and j < len(str2):\n",
    "        if str1[i] != str2[j]:\n",
    "            if edited:\n",
    "                return False\n",
    "            edited = True\n",
    "            j +=1\n",
    "        else:\n",
    "            i +=1\n",
    "            j +=1\n",
    "            \n",
    "    return True\n",
    "            "
   ]
  },
  {
   "cell_type": "code",
   "execution_count": 12,
   "id": "82568259",
   "metadata": {
    "execution": {
     "iopub.execute_input": "2024-01-28T20:04:04.459165Z",
     "iopub.status.busy": "2024-01-28T20:04:04.458747Z",
     "iopub.status.idle": "2024-01-28T20:04:04.463878Z",
     "shell.execute_reply": "2024-01-28T20:04:04.462871Z"
    },
    "papermill": {
     "duration": 0.016803,
     "end_time": "2024-01-28T20:04:04.465945",
     "exception": false,
     "start_time": "2024-01-28T20:04:04.449142",
     "status": "completed"
    },
    "tags": []
   },
   "outputs": [
    {
     "name": "stdout",
     "output_type": "stream",
     "text": [
      "('c', 't')\n",
      "('u', 'u')\n",
      "('b', 'b')\n",
      "('e', 'e')\n"
     ]
    }
   ],
   "source": [
    "for i in zip(\"cube\",\"tube\"):\n",
    "    print(i)"
   ]
  },
  {
   "cell_type": "markdown",
   "id": "9f3b7d8d",
   "metadata": {
    "papermill": {
     "duration": 0.008042,
     "end_time": "2024-01-28T20:04:04.482503",
     "exception": false,
     "start_time": "2024-01-28T20:04:04.474461",
     "status": "completed"
    },
    "tags": []
   },
   "source": [
    "#### Q6 String Compression\n",
    "\n",
    "A method to implement a basic string compression as in count of repeating chars.\n",
    "\n",
    "aaabbcccdd will become a3b2c3d2\n",
    "\n",
    "If compression isnt saving space it shud revert original.\n",
    "\n",
    "assumpstion: Only Lowercase and Uppercase in the string"
   ]
  },
  {
   "cell_type": "code",
   "execution_count": 13,
   "id": "8a73915c",
   "metadata": {
    "execution": {
     "iopub.execute_input": "2024-01-28T20:04:04.500987Z",
     "iopub.status.busy": "2024-01-28T20:04:04.500559Z",
     "iopub.status.idle": "2024-01-28T20:04:04.506711Z",
     "shell.execute_reply": "2024-01-28T20:04:04.505972Z"
    },
    "papermill": {
     "duration": 0.01766,
     "end_time": "2024-01-28T20:04:04.508545",
     "exception": false,
     "start_time": "2024-01-28T20:04:04.490885",
     "status": "completed"
    },
    "tags": []
   },
   "outputs": [],
   "source": [
    "def compress_str(strng):\n",
    "    compress = []\n",
    "    counter= 0\n",
    "    \n",
    "    for i in range(len(strng)):\n",
    "        if i != 0 and strng[i] != strng[i - 1]:\n",
    "            compress.append(strng[i-1] + str(counter))\n",
    "            counter = 0\n",
    "        counter +=1\n",
    "        \n",
    "    if counter:\n",
    "        compress.append(strng[-1] + str(counter))\n",
    "        \n",
    "    return min(strng,\"\".join(compress), key=len)"
   ]
  },
  {
   "cell_type": "code",
   "execution_count": 14,
   "id": "172db737",
   "metadata": {
    "execution": {
     "iopub.execute_input": "2024-01-28T20:04:04.527273Z",
     "iopub.status.busy": "2024-01-28T20:04:04.526606Z",
     "iopub.status.idle": "2024-01-28T20:04:04.534056Z",
     "shell.execute_reply": "2024-01-28T20:04:04.532099Z"
    },
    "papermill": {
     "duration": 0.019298,
     "end_time": "2024-01-28T20:04:04.536277",
     "exception": false,
     "start_time": "2024-01-28T20:04:04.516979",
     "status": "completed"
    },
    "tags": []
   },
   "outputs": [
    {
     "data": {
      "text/plain": [
       "'a3b2c3d2'"
      ]
     },
     "execution_count": 14,
     "metadata": {},
     "output_type": "execute_result"
    }
   ],
   "source": [
    "compress_str(\"aaabbcccdd\")"
   ]
  },
  {
   "cell_type": "markdown",
   "id": "6792e0fa",
   "metadata": {
    "papermill": {
     "duration": 0.008359,
     "end_time": "2024-01-28T20:04:04.612757",
     "exception": false,
     "start_time": "2024-01-28T20:04:04.604398",
     "status": "completed"
    },
    "tags": []
   },
   "source": [
    "#### Q 7  Image of N*N matrix with each pixel 4 bytes.. A method to rotate them by 90 degress.."
   ]
  },
  {
   "cell_type": "code",
   "execution_count": 15,
   "id": "437d9dc0",
   "metadata": {
    "execution": {
     "iopub.execute_input": "2024-01-28T20:04:04.631434Z",
     "iopub.status.busy": "2024-01-28T20:04:04.631035Z",
     "iopub.status.idle": "2024-01-28T20:04:04.637505Z",
     "shell.execute_reply": "2024-01-28T20:04:04.636452Z"
    },
    "papermill": {
     "duration": 0.018302,
     "end_time": "2024-01-28T20:04:04.639658",
     "exception": false,
     "start_time": "2024-01-28T20:04:04.621356",
     "status": "completed"
    },
    "tags": []
   },
   "outputs": [],
   "source": [
    "#Rotate Matrix:\n",
    "    \n",
    "def rotate_matrix(matrix):\n",
    "    n = len(matrix)\n",
    "    for layer in range(n//2):\n",
    "        first, last = layer, n- layer-1\n",
    "        \n",
    "        for i in range(first,last):\n",
    "            \n",
    "            top = matrix[layer][i]\n",
    "            \n",
    "            \n",
    "            matrix[layer][i] = matrix[-i-1][layer]\n",
    "            \n",
    "            matrix[-i-1][layer] = matrix[-layer-1][-i-1]\n",
    "            \n",
    "            matrix[-layer-1][-i-1] = matrix[i][-layer-1]\n",
    "            \n",
    "            matrix[i][-layer-1] = top\n",
    "            \n",
    "    return matrix"
   ]
  },
  {
   "cell_type": "code",
   "execution_count": 16,
   "id": "e40463d5",
   "metadata": {
    "execution": {
     "iopub.execute_input": "2024-01-28T20:04:04.659158Z",
     "iopub.status.busy": "2024-01-28T20:04:04.658035Z",
     "iopub.status.idle": "2024-01-28T20:04:04.664257Z",
     "shell.execute_reply": "2024-01-28T20:04:04.663448Z"
    },
    "papermill": {
     "duration": 0.018035,
     "end_time": "2024-01-28T20:04:04.666272",
     "exception": false,
     "start_time": "2024-01-28T20:04:04.648237",
     "status": "completed"
    },
    "tags": []
   },
   "outputs": [],
   "source": [
    "def rotate_matrix_pythonic(matrix):\n",
    "    n = len(matrix)\n",
    "    result = [[0] * n for i in range(n)]  # empty list of 0s\n",
    "    for i, j in zip(range(n), range(n - 1, -1, -1)):  # i counts up, j counts down\n",
    "        for k in range(n):\n",
    "            result[k][i] = matrix[j][k]\n",
    "    return result"
   ]
  },
  {
   "cell_type": "code",
   "execution_count": 17,
   "id": "31706e0a",
   "metadata": {
    "execution": {
     "iopub.execute_input": "2024-01-28T20:04:04.684658Z",
     "iopub.status.busy": "2024-01-28T20:04:04.684310Z",
     "iopub.status.idle": "2024-01-28T20:04:04.692509Z",
     "shell.execute_reply": "2024-01-28T20:04:04.691548Z"
    },
    "papermill": {
     "duration": 0.019743,
     "end_time": "2024-01-28T20:04:04.694544",
     "exception": false,
     "start_time": "2024-01-28T20:04:04.674801",
     "status": "completed"
    },
    "tags": []
   },
   "outputs": [
    {
     "data": {
      "text/plain": [
       "[[7, 4, 1], [8, 5, 2], [9, 6, 3]]"
      ]
     },
     "execution_count": 17,
     "metadata": {},
     "output_type": "execute_result"
    }
   ],
   "source": [
    "rotate_matrix_pythonic([[1,2,3],[4,5,6],[7,8,9]])"
   ]
  },
  {
   "cell_type": "code",
   "execution_count": 18,
   "id": "bdf10f94",
   "metadata": {
    "execution": {
     "iopub.execute_input": "2024-01-28T20:04:04.713360Z",
     "iopub.status.busy": "2024-01-28T20:04:04.712639Z",
     "iopub.status.idle": "2024-01-28T20:04:04.718222Z",
     "shell.execute_reply": "2024-01-28T20:04:04.717179Z"
    },
    "papermill": {
     "duration": 0.017142,
     "end_time": "2024-01-28T20:04:04.720239",
     "exception": false,
     "start_time": "2024-01-28T20:04:04.703097",
     "status": "completed"
    },
    "tags": []
   },
   "outputs": [],
   "source": [
    "def rotate_matrix_pythonic_altn(matrix):\n",
    "    n = len(matrix)\n",
    "    result = [[0] * n for i in range(n)]  # empty list of 0s\n",
    "    for i in range(n):  # i counts up, j counts down\n",
    "        for k in range(n):\n",
    "            result[k][i] = matrix[n-i-1][k]\n",
    "    return result"
   ]
  },
  {
   "cell_type": "code",
   "execution_count": 19,
   "id": "64be73e0",
   "metadata": {
    "execution": {
     "iopub.execute_input": "2024-01-28T20:04:04.739957Z",
     "iopub.status.busy": "2024-01-28T20:04:04.739001Z",
     "iopub.status.idle": "2024-01-28T20:04:04.746156Z",
     "shell.execute_reply": "2024-01-28T20:04:04.745022Z"
    },
    "papermill": {
     "duration": 0.019288,
     "end_time": "2024-01-28T20:04:04.748170",
     "exception": false,
     "start_time": "2024-01-28T20:04:04.728882",
     "status": "completed"
    },
    "tags": []
   },
   "outputs": [
    {
     "data": {
      "text/plain": [
       "[[7, 4, 1], [8, 5, 2], [9, 6, 3]]"
      ]
     },
     "execution_count": 19,
     "metadata": {},
     "output_type": "execute_result"
    }
   ],
   "source": [
    "rotate_matrix_pythonic_altn([[1,2,3],[4,5,6],[7,8,9]])"
   ]
  },
  {
   "cell_type": "markdown",
   "id": "b3e22612",
   "metadata": {
    "papermill": {
     "duration": 0.008585,
     "end_time": "2024-01-28T20:04:04.766071",
     "exception": false,
     "start_time": "2024-01-28T20:04:04.757486",
     "status": "completed"
    },
    "tags": []
   },
   "source": [
    "#### Q 8 Zero Matrix: \n",
    "\n",
    "Write an algorithm such that if an element in an MxN matrix is 0, its entire row and\n",
    "column are set to 0. \n"
   ]
  },
  {
   "cell_type": "code",
   "execution_count": 20,
   "id": "f2eebe8f",
   "metadata": {
    "execution": {
     "iopub.execute_input": "2024-01-28T20:04:04.785296Z",
     "iopub.status.busy": "2024-01-28T20:04:04.784918Z",
     "iopub.status.idle": "2024-01-28T20:04:04.793666Z",
     "shell.execute_reply": "2024-01-28T20:04:04.792493Z"
    },
    "papermill": {
     "duration": 0.021019,
     "end_time": "2024-01-28T20:04:04.795917",
     "exception": false,
     "start_time": "2024-01-28T20:04:04.774898",
     "status": "completed"
    },
    "tags": []
   },
   "outputs": [],
   "source": [
    "def zero_matrix(matrix):\n",
    "    m = len(matrix)\n",
    "    n = len(matrix[0])\n",
    "    rows = set()\n",
    "    cols = set()\n",
    "\n",
    "    for x in range(m):\n",
    "        for y in range(n):\n",
    "            if matrix[x][y] == 0:\n",
    "                rows.add(x)\n",
    "                cols.add(y)\n",
    "\n",
    "    for x in range(m):\n",
    "        for y in range(n):\n",
    "            if (x in rows) or (y in cols):\n",
    "                matrix[x][y] = 0\n",
    "\n",
    "    return matrix\n",
    "\n",
    "\n",
    "def zero_matrix_pythonic(matrix):\n",
    "    matrix = [[\"X\" if x == 0 else x for x in row] for row in matrix]\n",
    "    indices = []\n",
    "    for idx, row in enumerate(matrix):\n",
    "        if \"X\" in row:\n",
    "            indices = indices + [i for i, j in enumerate(row) if j == \"X\"]\n",
    "            matrix[idx] = [0] * len(matrix[0])\n",
    "    matrix = [[0 if row.index(i) in indices else i for i in row] for row in matrix]\n",
    "    return matrix\n",
    "\n",
    "\n"
   ]
  },
  {
   "cell_type": "code",
   "execution_count": 21,
   "id": "f4cb98c6",
   "metadata": {
    "execution": {
     "iopub.execute_input": "2024-01-28T20:04:04.816505Z",
     "iopub.status.busy": "2024-01-28T20:04:04.815697Z",
     "iopub.status.idle": "2024-01-28T20:04:04.822019Z",
     "shell.execute_reply": "2024-01-28T20:04:04.821359Z"
    },
    "papermill": {
     "duration": 0.018839,
     "end_time": "2024-01-28T20:04:04.823915",
     "exception": false,
     "start_time": "2024-01-28T20:04:04.805076",
     "status": "completed"
    },
    "tags": []
   },
   "outputs": [
    {
     "data": {
      "text/plain": [
       "[[0, 0, 3, 4], [0, 0, 0, 0], [0, 0, 0, 0]]"
      ]
     },
     "execution_count": 21,
     "metadata": {},
     "output_type": "execute_result"
    }
   ],
   "source": [
    "zero_matrix([[1,2,3,4],[5,0,6,7],[0,8,9,10]])"
   ]
  },
  {
   "cell_type": "markdown",
   "id": "b6f37cf2",
   "metadata": {
    "papermill": {
     "duration": 0.008586,
     "end_time": "2024-01-28T20:04:04.841409",
     "exception": false,
     "start_time": "2024-01-28T20:04:04.832823",
     "status": "completed"
    },
    "tags": []
   },
   "source": [
    "#### Q 9 String Rotation; \n",
    "Assume you have a method isSubs t rin g which checks if one word is a substring\n",
    "of another. Given two strings, si and s2, write code to check if s2 is a rotation of si using only one\n",
    "call to isSubs t rin g [e.g., \"wate r bottle \" is a rotation of 'erbottlewat\"), \n"
   ]
  },
  {
   "cell_type": "code",
   "execution_count": 22,
   "id": "d54b56a7",
   "metadata": {
    "execution": {
     "iopub.execute_input": "2024-01-28T20:04:04.860692Z",
     "iopub.status.busy": "2024-01-28T20:04:04.860083Z",
     "iopub.status.idle": "2024-01-28T20:04:04.864212Z",
     "shell.execute_reply": "2024-01-28T20:04:04.863521Z"
    },
    "papermill": {
     "duration": 0.01582,
     "end_time": "2024-01-28T20:04:04.866056",
     "exception": false,
     "start_time": "2024-01-28T20:04:04.850236",
     "status": "completed"
    },
    "tags": []
   },
   "outputs": [],
   "source": [
    "def string_rotation(s1, s2):\n",
    "    if len(s1) == len(s2) != 0:\n",
    "        return s2 in s1 * 2\n",
    "    return False"
   ]
  },
  {
   "cell_type": "code",
   "execution_count": 23,
   "id": "9c4aa456",
   "metadata": {
    "execution": {
     "iopub.execute_input": "2024-01-28T20:04:04.885240Z",
     "iopub.status.busy": "2024-01-28T20:04:04.884651Z",
     "iopub.status.idle": "2024-01-28T20:04:04.890204Z",
     "shell.execute_reply": "2024-01-28T20:04:04.889181Z"
    },
    "papermill": {
     "duration": 0.017178,
     "end_time": "2024-01-28T20:04:04.892065",
     "exception": false,
     "start_time": "2024-01-28T20:04:04.874887",
     "status": "completed"
    },
    "tags": []
   },
   "outputs": [
    {
     "data": {
      "text/plain": [
       "True"
      ]
     },
     "execution_count": 23,
     "metadata": {},
     "output_type": "execute_result"
    }
   ],
   "source": [
    " 'erbotterwat' in 'waterbotter'*2"
   ]
  }
 ],
 "metadata": {
  "kaggle": {
   "accelerator": "none",
   "dataSources": [],
   "dockerImageVersionId": 30635,
   "isGpuEnabled": false,
   "isInternetEnabled": true,
   "language": "python",
   "sourceType": "notebook"
  },
  "kernelspec": {
   "display_name": "Python 3",
   "language": "python",
   "name": "python3"
  },
  "language_info": {
   "codemirror_mode": {
    "name": "ipython",
    "version": 3
   },
   "file_extension": ".py",
   "mimetype": "text/x-python",
   "name": "python",
   "nbconvert_exporter": "python",
   "pygments_lexer": "ipython3",
   "version": "3.10.12"
  },
  "papermill": {
   "default_parameters": {},
   "duration": 4.621395,
   "end_time": "2024-01-28T20:04:05.320440",
   "environment_variables": {},
   "exception": null,
   "input_path": "__notebook__.ipynb",
   "output_path": "__notebook__.ipynb",
   "parameters": {},
   "start_time": "2024-01-28T20:04:00.699045",
   "version": "2.4.0"
  }
 },
 "nbformat": 4,
 "nbformat_minor": 5
}
