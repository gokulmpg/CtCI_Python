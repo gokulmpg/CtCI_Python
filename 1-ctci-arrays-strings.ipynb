{
 "cells": [
  {
   "cell_type": "code",
   "execution_count": 1,
   "id": "e4fecb71",
   "metadata": {
    "_cell_guid": "b1076dfc-b9ad-4769-8c92-a6c4dae69d19",
    "_uuid": "8f2839f25d086af736a60e9eeb907d3b93b6e0e5",
    "execution": {
     "iopub.execute_input": "2024-01-26T18:34:08.768868Z",
     "iopub.status.busy": "2024-01-26T18:34:08.768025Z",
     "iopub.status.idle": "2024-01-26T18:34:09.579145Z",
     "shell.execute_reply": "2024-01-26T18:34:09.577662Z"
    },
    "papermill": {
     "duration": 0.823107,
     "end_time": "2024-01-26T18:34:09.582047",
     "exception": false,
     "start_time": "2024-01-26T18:34:08.758940",
     "status": "completed"
    },
    "tags": []
   },
   "outputs": [],
   "source": [
    "# This Python 3 environment comes with many helpful analytics libraries installed\n",
    "# It is defined by the kaggle/python Docker image: https://github.com/kaggle/docker-python\n",
    "# For example, here's several helpful packages to load\n",
    "\n",
    "import numpy as np # linear algebra\n",
    "import pandas as pd # data processing, CSV file I/O (e.g. pd.read_csv)\n",
    "\n",
    "# Input data files are available in the read-only \"../input/\" directory\n",
    "# For example, running this (by clicking run or pressing Shift+Enter) will list all files under the input directory\n",
    "\n",
    "import os\n",
    "for dirname, _, filenames in os.walk('/kaggle/input'):\n",
    "    for filename in filenames:\n",
    "        print(os.path.join(dirname, filename))\n",
    "\n",
    "# You can write up to 20GB to the current directory (/kaggle/working/) that gets preserved as output when you create a version using \"Save & Run All\" \n",
    "# You can also write temporary files to /kaggle/temp/, but they won't be saved outside of the current session"
   ]
  },
  {
   "cell_type": "markdown",
   "id": "c7808f9f",
   "metadata": {
    "papermill": {
     "duration": 0.005996,
     "end_time": "2024-01-26T18:34:09.594788",
     "exception": false,
     "start_time": "2024-01-26T18:34:09.588792",
     "status": "completed"
    },
    "tags": []
   },
   "source": [
    "### Hash Tables"
   ]
  },
  {
   "cell_type": "markdown",
   "id": "6f2e84a4",
   "metadata": {
    "papermill": {
     "duration": 0.005938,
     "end_time": "2024-01-26T18:34:09.606905",
     "exception": false,
     "start_time": "2024-01-26T18:34:09.600967",
     "status": "completed"
    },
    "tags": []
   },
   "source": [
    "Value to keys in highly efficient look ups...\n",
    "1. compute keys hash code\n",
    "2. Map the hash code to the index in the array\n",
    "3. store keys and values (linked list of keys and values) in Index\n",
    "\n",
    "\n",
    "hi --> 10320 --> 0 |\n",
    "abc--> 980   --> 0 --> hi --> abc \n",
    "\n",
    "\n",
    "\n",
    "\n",
    "\n"
   ]
  },
  {
   "cell_type": "markdown",
   "id": "0bd8577d",
   "metadata": {
    "papermill": {
     "duration": 0.005762,
     "end_time": "2024-01-26T18:34:09.618834",
     "exception": false,
     "start_time": "2024-01-26T18:34:09.613072",
     "status": "completed"
    },
    "tags": []
   },
   "source": [
    "### Array List & Resizable Array"
   ]
  },
  {
   "cell_type": "markdown",
   "id": "495e3ed7",
   "metadata": {
    "papermill": {
     "duration": 0.005888,
     "end_time": "2024-01-26T18:34:09.630827",
     "exception": false,
     "start_time": "2024-01-26T18:34:09.624939",
     "status": "completed"
    },
    "tags": []
   },
   "source": [
    "Arrays are list in some languages. Array or a list will grow as you append. arrays are fixed in Java. \n",
    "\n",
    "When you need an array like data strcuture that dynamically resizes, You would use arrayList.\n",
    "\n",
    "\n"
   ]
  },
  {
   "cell_type": "markdown",
   "id": "dd510d9b",
   "metadata": {
    "papermill": {
     "duration": 0.005801,
     "end_time": "2024-01-26T18:34:09.642665",
     "exception": false,
     "start_time": "2024-01-26T18:34:09.636864",
     "status": "completed"
    },
    "tags": []
   },
   "source": [
    "### String Builder\n",
    "\n",
    "For Concatenating a list of strings... On each concaterating, new copy of a string is created..  1x --> 2x --> 3x  =  O(x+2x+..+nx) = O(n power2 x)\n",
    "\n",
    "String builder can avoid this problem.\n",
    "\n",
    "If Resizable arrays of all string are built and copied whenevr neccesary. That is String Builder.\n",
    "\n"
   ]
  },
  {
   "cell_type": "markdown",
   "id": "3871d8c7",
   "metadata": {
    "papermill": {
     "duration": 0.005855,
     "end_time": "2024-01-26T18:34:09.654858",
     "exception": false,
     "start_time": "2024-01-26T18:34:09.649003",
     "status": "completed"
    },
    "tags": []
   },
   "source": [
    "#### Q1 Implement an Alogorithm to determine if a string has all unique charecter.\n",
    "\n",
    "##### Alternative usecase : Cant use additional data structures.."
   ]
  },
  {
   "cell_type": "code",
   "execution_count": 2,
   "id": "f7cc6e93",
   "metadata": {
    "execution": {
     "iopub.execute_input": "2024-01-26T18:34:09.669181Z",
     "iopub.status.busy": "2024-01-26T18:34:09.668662Z",
     "iopub.status.idle": "2024-01-26T18:34:09.677311Z",
     "shell.execute_reply": "2024-01-26T18:34:09.675842Z"
    },
    "papermill": {
     "duration": 0.018904,
     "end_time": "2024-01-26T18:34:09.679764",
     "exception": false,
     "start_time": "2024-01-26T18:34:09.660860",
     "status": "completed"
    },
    "tags": []
   },
   "outputs": [],
   "source": [
    "def is_unique_algo(string1):\n",
    "    if len(string1) > 128:\n",
    "        return False\n",
    "    \n",
    "    char_set = [False] * 128\n",
    "    for char in string1:\n",
    "        val = ord(char)\n",
    "        if char_set[val]:\n",
    "            return False\n",
    "        char_set[val] = True\n",
    "        \n",
    "    return True\n",
    "\n",
    "\n",
    "\n",
    "def is_unique_pyth(string2):\n",
    "    return len(set(string2))==len(string2)\n",
    "\n",
    "\n",
    "def is_unique_dict(string: str):\n",
    "    character_counts = {}\n",
    "    for char in string:\n",
    "        if char in character_counts:\n",
    "            return False\n",
    "        character_counts[char] = 1\n",
    "    return True\n",
    "    "
   ]
  },
  {
   "cell_type": "code",
   "execution_count": 3,
   "id": "4d734c9b",
   "metadata": {
    "execution": {
     "iopub.execute_input": "2024-01-26T18:34:09.694465Z",
     "iopub.status.busy": "2024-01-26T18:34:09.694054Z",
     "iopub.status.idle": "2024-01-26T18:34:09.702526Z",
     "shell.execute_reply": "2024-01-26T18:34:09.701295Z"
    },
    "papermill": {
     "duration": 0.019126,
     "end_time": "2024-01-26T18:34:09.705197",
     "exception": false,
     "start_time": "2024-01-26T18:34:09.686071",
     "status": "completed"
    },
    "tags": []
   },
   "outputs": [
    {
     "data": {
      "text/plain": [
       "True"
      ]
     },
     "execution_count": 3,
     "metadata": {},
     "output_type": "execute_result"
    }
   ],
   "source": [
    "is_unique_dict('king')"
   ]
  },
  {
   "cell_type": "markdown",
   "id": "385c200b",
   "metadata": {
    "execution": {
     "iopub.execute_input": "2024-01-26T16:39:41.855434Z",
     "iopub.status.busy": "2024-01-26T16:39:41.854981Z",
     "iopub.status.idle": "2024-01-26T16:39:41.863525Z",
     "shell.execute_reply": "2024-01-26T16:39:41.861977Z",
     "shell.execute_reply.started": "2024-01-26T16:39:41.855399Z"
    },
    "papermill": {
     "duration": 0.005911,
     "end_time": "2024-01-26T18:34:09.717396",
     "exception": false,
     "start_time": "2024-01-26T18:34:09.711485",
     "status": "completed"
    },
    "tags": []
   },
   "source": [
    "#### Q2. Given two string write a method to decide if one is a permutation of the other\n",
    "##### \n"
   ]
  },
  {
   "cell_type": "code",
   "execution_count": 4,
   "id": "1a94c2e2",
   "metadata": {
    "execution": {
     "iopub.execute_input": "2024-01-26T18:34:09.732057Z",
     "iopub.status.busy": "2024-01-26T18:34:09.731666Z",
     "iopub.status.idle": "2024-01-26T18:34:09.739154Z",
     "shell.execute_reply": "2024-01-26T18:34:09.737818Z"
    },
    "papermill": {
     "duration": 0.017969,
     "end_time": "2024-01-26T18:34:09.741689",
     "exception": false,
     "start_time": "2024-01-26T18:34:09.723720",
     "status": "completed"
    },
    "tags": []
   },
   "outputs": [],
   "source": [
    "def check_perm_sort(s1,s2):\n",
    "    if len(s1) != len(s2):\n",
    "        return False\n",
    "    s1,s2 = sorted(s1),sorted(s2)\n",
    "    for i in range(len(s1)):\n",
    "        if s1[i] != s2[i]:\n",
    "            return False\n",
    "    return True\n",
    "\n",
    "\n",
    "def check_permutation_pyth(str1,str2):\n",
    "    if len(str1)!=len(str2):\n",
    "        return False\n",
    "    from collections import Counter\n",
    "    return Counter(str1) == Counter(str2)\n"
   ]
  },
  {
   "cell_type": "code",
   "execution_count": 5,
   "id": "3e22ff2b",
   "metadata": {
    "execution": {
     "iopub.execute_input": "2024-01-26T18:34:09.756312Z",
     "iopub.status.busy": "2024-01-26T18:34:09.755935Z",
     "iopub.status.idle": "2024-01-26T18:34:09.763182Z",
     "shell.execute_reply": "2024-01-26T18:34:09.762174Z"
    },
    "papermill": {
     "duration": 0.017383,
     "end_time": "2024-01-26T18:34:09.765579",
     "exception": false,
     "start_time": "2024-01-26T18:34:09.748196",
     "status": "completed"
    },
    "tags": []
   },
   "outputs": [
    {
     "data": {
      "text/plain": [
       "False"
      ]
     },
     "execution_count": 5,
     "metadata": {},
     "output_type": "execute_result"
    }
   ],
   "source": [
    "check_permutation_pyth('QUick','Qkciu')"
   ]
  },
  {
   "cell_type": "markdown",
   "id": "3fe636f2",
   "metadata": {
    "execution": {
     "iopub.execute_input": "2024-01-26T16:50:16.040903Z",
     "iopub.status.busy": "2024-01-26T16:50:16.039734Z",
     "iopub.status.idle": "2024-01-26T16:50:16.048146Z",
     "shell.execute_reply": "2024-01-26T16:50:16.046722Z",
     "shell.execute_reply.started": "2024-01-26T16:50:16.040865Z"
    },
    "papermill": {
     "duration": 0.006044,
     "end_time": "2024-01-26T18:34:09.778094",
     "exception": false,
     "start_time": "2024-01-26T18:34:09.772050",
     "status": "completed"
    },
    "tags": []
   },
   "source": [
    "#### Q3. Write a methode to replace all space with %20  a.k.a   urlify"
   ]
  },
  {
   "cell_type": "code",
   "execution_count": 6,
   "id": "8e1e5087",
   "metadata": {
    "execution": {
     "iopub.execute_input": "2024-01-26T18:34:09.793745Z",
     "iopub.status.busy": "2024-01-26T18:34:09.793238Z",
     "iopub.status.idle": "2024-01-26T18:34:09.802179Z",
     "shell.execute_reply": "2024-01-26T18:34:09.800891Z"
    },
    "papermill": {
     "duration": 0.02019,
     "end_time": "2024-01-26T18:34:09.804775",
     "exception": false,
     "start_time": "2024-01-26T18:34:09.784585",
     "status": "completed"
    },
    "tags": []
   },
   "outputs": [],
   "source": [
    "def urlify_algo(text,leng):\n",
    "    char_lst = list(text)\n",
    "    new_index = len(char_lst)\n",
    "    \n",
    "    for i in reversed(range(leng)):\n",
    "        if char_lst[i] == \" \":\n",
    "            char_lst[new_index - 3 :new_index] = \"%20\"\n",
    "            new_index -=3\n",
    "        else:\n",
    "            char_lst[new_index-1]= char_lst[i]\n",
    "            new_index -= 1\n",
    "    print(char_lst)\n",
    "    print(new_index)\n",
    "    return \"\".join(char_lst[new_index:])\n",
    "\n",
    "def urlify_pyth(text,leng):\n",
    "    return text[:leng].replace(\" \",\"%20\")\n"
   ]
  },
  {
   "cell_type": "code",
   "execution_count": 7,
   "id": "4a8be0d2",
   "metadata": {
    "execution": {
     "iopub.execute_input": "2024-01-26T18:34:09.819867Z",
     "iopub.status.busy": "2024-01-26T18:34:09.819337Z",
     "iopub.status.idle": "2024-01-26T18:34:09.827359Z",
     "shell.execute_reply": "2024-01-26T18:34:09.826486Z"
    },
    "papermill": {
     "duration": 0.018531,
     "end_time": "2024-01-26T18:34:09.829783",
     "exception": false,
     "start_time": "2024-01-26T18:34:09.811252",
     "status": "completed"
    },
    "tags": []
   },
   "outputs": [
    {
     "name": "stdout",
     "output_type": "stream",
     "text": [
      "['2', '%', '2', '%', '2', '%', '2', '0', 'b', 'a', '2', '%']\n",
      "-2\n"
     ]
    },
    {
     "data": {
      "text/plain": [
       "'2%'"
      ]
     },
     "execution_count": 7,
     "metadata": {},
     "output_type": "execute_result"
    }
   ],
   "source": [
    "urlify_algo('king is back',12)"
   ]
  },
  {
   "cell_type": "markdown",
   "id": "d9ec4e7d",
   "metadata": {
    "papermill": {
     "duration": 0.006388,
     "end_time": "2024-01-26T18:34:09.842753",
     "exception": false,
     "start_time": "2024-01-26T18:34:09.836365",
     "status": "completed"
    },
    "tags": []
   },
   "source": []
  },
  {
   "cell_type": "code",
   "execution_count": null,
   "id": "1737868a",
   "metadata": {
    "execution": {
     "iopub.execute_input": "2024-01-26T18:22:15.027741Z",
     "iopub.status.busy": "2024-01-26T18:22:15.027288Z",
     "iopub.status.idle": "2024-01-26T18:22:15.036917Z",
     "shell.execute_reply": "2024-01-26T18:22:15.035588Z",
     "shell.execute_reply.started": "2024-01-26T18:22:15.027708Z"
    },
    "papermill": {
     "duration": 0.006634,
     "end_time": "2024-01-26T18:34:09.855979",
     "exception": false,
     "start_time": "2024-01-26T18:34:09.849345",
     "status": "completed"
    },
    "tags": []
   },
   "outputs": [],
   "source": [
    "\n"
   ]
  },
  {
   "cell_type": "code",
   "execution_count": null,
   "id": "0dce9ae3",
   "metadata": {
    "execution": {
     "iopub.execute_input": "2024-01-26T18:22:38.120077Z",
     "iopub.status.busy": "2024-01-26T18:22:38.119673Z",
     "iopub.status.idle": "2024-01-26T18:22:38.127738Z",
     "shell.execute_reply": "2024-01-26T18:22:38.126589Z",
     "shell.execute_reply.started": "2024-01-26T18:22:38.120049Z"
    },
    "papermill": {
     "duration": 0.006481,
     "end_time": "2024-01-26T18:34:09.869207",
     "exception": false,
     "start_time": "2024-01-26T18:34:09.862726",
     "status": "completed"
    },
    "tags": []
   },
   "outputs": [],
   "source": []
  },
  {
   "cell_type": "code",
   "execution_count": null,
   "id": "7c259f7b",
   "metadata": {
    "papermill": {
     "duration": 0.006353,
     "end_time": "2024-01-26T18:34:09.882584",
     "exception": false,
     "start_time": "2024-01-26T18:34:09.876231",
     "status": "completed"
    },
    "tags": []
   },
   "outputs": [],
   "source": []
  }
 ],
 "metadata": {
  "kaggle": {
   "accelerator": "none",
   "dataSources": [],
   "dockerImageVersionId": 30635,
   "isGpuEnabled": false,
   "isInternetEnabled": true,
   "language": "python",
   "sourceType": "notebook"
  },
  "kernelspec": {
   "display_name": "Python 3",
   "language": "python",
   "name": "python3"
  },
  "language_info": {
   "codemirror_mode": {
    "name": "ipython",
    "version": 3
   },
   "file_extension": ".py",
   "mimetype": "text/x-python",
   "name": "python",
   "nbconvert_exporter": "python",
   "pygments_lexer": "ipython3",
   "version": "3.10.12"
  },
  "papermill": {
   "default_parameters": {},
   "duration": 6.55502,
   "end_time": "2024-01-26T18:34:10.613122",
   "environment_variables": {},
   "exception": null,
   "input_path": "__notebook__.ipynb",
   "output_path": "__notebook__.ipynb",
   "parameters": {},
   "start_time": "2024-01-26T18:34:04.058102",
   "version": "2.4.0"
  }
 },
 "nbformat": 4,
 "nbformat_minor": 5
}
