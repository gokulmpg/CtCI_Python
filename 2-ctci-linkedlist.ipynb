{
 "cells": [
  {
   "cell_type": "code",
   "execution_count": 1,
   "id": "90f544d7",
   "metadata": {
    "_cell_guid": "b1076dfc-b9ad-4769-8c92-a6c4dae69d19",
    "_uuid": "8f2839f25d086af736a60e9eeb907d3b93b6e0e5",
    "execution": {
     "iopub.execute_input": "2024-01-29T21:00:21.803218Z",
     "iopub.status.busy": "2024-01-29T21:00:21.802765Z",
     "iopub.status.idle": "2024-01-29T21:00:22.681899Z",
     "shell.execute_reply": "2024-01-29T21:00:22.680728Z"
    },
    "papermill": {
     "duration": 0.888885,
     "end_time": "2024-01-29T21:00:22.684962",
     "exception": false,
     "start_time": "2024-01-29T21:00:21.796077",
     "status": "completed"
    },
    "tags": []
   },
   "outputs": [],
   "source": [
    "# This Python 3 environment comes with many helpful analytics libraries installed\n",
    "# It is defined by the kaggle/python Docker image: https://github.com/kaggle/docker-python\n",
    "# For example, here's several helpful packages to load\n",
    "\n",
    "import numpy as np # linear algebra\n",
    "import pandas as pd # data processing, CSV file I/O (e.g. pd.read_csv)\n",
    "\n",
    "# Input data files are available in the read-only \"../input/\" directory\n",
    "# For example, running this (by clicking run or pressing Shift+Enter) will list all files under the input directory\n",
    "\n",
    "import os\n",
    "for dirname, _, filenames in os.walk('/kaggle/input'):\n",
    "    for filename in filenames:\n",
    "        print(os.path.join(dirname, filename))\n",
    "\n",
    "# You can write up to 20GB to the current directory (/kaggle/working/) that gets preserved as output when you create a version using \"Save & Run All\" \n",
    "# You can also write temporary files to /kaggle/temp/, but they won't be saved outside of the current session"
   ]
  },
  {
   "cell_type": "markdown",
   "id": "b6b22b48",
   "metadata": {
    "papermill": {
     "duration": 0.004403,
     "end_time": "2024-01-29T21:00:22.694183",
     "exception": false,
     "start_time": "2024-01-29T21:00:22.689780",
     "status": "completed"
    },
    "tags": []
   },
   "source": [
    "#### Creating a Linked List\n",
    "> The code below implements a very basic singly linked list."
   ]
  },
  {
   "cell_type": "code",
   "execution_count": 2,
   "id": "f49b0f45",
   "metadata": {
    "execution": {
     "iopub.execute_input": "2024-01-29T21:00:22.705018Z",
     "iopub.status.busy": "2024-01-29T21:00:22.704474Z",
     "iopub.status.idle": "2024-01-29T21:00:22.720478Z",
     "shell.execute_reply": "2024-01-29T21:00:22.719624Z"
    },
    "papermill": {
     "duration": 0.024041,
     "end_time": "2024-01-29T21:00:22.722635",
     "exception": false,
     "start_time": "2024-01-29T21:00:22.698594",
     "status": "completed"
    },
    "tags": []
   },
   "outputs": [],
   "source": [
    "import random\n",
    "\n",
    "\n",
    "class LinkedListNode:\n",
    "    def __init__(self, value, next_node=None, prev_node=None):\n",
    "        self.value = value\n",
    "        self.next = next_node\n",
    "        self.prev = prev_node\n",
    "\n",
    "    def __str__(self):\n",
    "        return str(self.value)\n",
    "\n",
    "\n",
    "class LinkedList:\n",
    "    def __init__(self, values=None):\n",
    "        self.head = None\n",
    "        self.tail = None\n",
    "        if values is not None:\n",
    "            self.add_multiple(values)\n",
    "\n",
    "    def __iter__(self):\n",
    "        current = self.head\n",
    "        while current:\n",
    "            yield current\n",
    "            current = current.next\n",
    "\n",
    "    def __str__(self):\n",
    "        values = [str(x) for x in self]\n",
    "        return \" -> \".join(values)\n",
    "\n",
    "    def __len__(self):\n",
    "        result = 0\n",
    "        node = self.head\n",
    "        while node:\n",
    "            result += 1\n",
    "            node = node.next\n",
    "        return result\n",
    "\n",
    "    def values(self):\n",
    "        return [x.value for x in self]\n",
    "\n",
    "    def add(self, value):\n",
    "        if self.head is None:\n",
    "            self.tail = self.head = LinkedListNode(value)\n",
    "        else:\n",
    "            self.tail.next = LinkedListNode(value)\n",
    "            self.tail = self.tail.next\n",
    "        return self.tail\n",
    "\n",
    "    def add_to_beginning(self, value):\n",
    "        if self.head is None:\n",
    "            self.tail = self.head = LinkedListNode(value)\n",
    "        else:\n",
    "            self.head = LinkedListNode(value, self.head)\n",
    "        return self.head\n",
    "\n",
    "    def add_multiple(self, values):\n",
    "        for v in values:\n",
    "            self.add(v)\n",
    "\n",
    "    @classmethod\n",
    "    def generate(cls, k, min_value, max_value):\n",
    "        return cls(random.choices(range(min_value, max_value), k=k))\n",
    "\n",
    "\n",
    "class DoublyLinkedList(LinkedList):\n",
    "    def add(self, value):\n",
    "        if self.head is None:\n",
    "            self.tail = self.head = LinkedListNode(value)\n",
    "        else:\n",
    "            self.tail.next = LinkedListNode(value, None, self.tail)\n",
    "            self.tail = self.tail.next\n",
    "        return self"
   ]
  },
  {
   "cell_type": "markdown",
   "id": "49ff8f69",
   "metadata": {
    "papermill": {
     "duration": 0.004081,
     "end_time": "2024-01-29T21:00:22.731063",
     "exception": false,
     "start_time": "2024-01-29T21:00:22.726982",
     "status": "completed"
    },
    "tags": []
   },
   "source": [
    "##### Q1. Remove Duplicates\n",
    "\n"
   ]
  },
  {
   "cell_type": "code",
   "execution_count": 3,
   "id": "e1abf90d",
   "metadata": {
    "execution": {
     "iopub.execute_input": "2024-01-29T21:00:22.741862Z",
     "iopub.status.busy": "2024-01-29T21:00:22.741185Z",
     "iopub.status.idle": "2024-01-29T21:00:22.751384Z",
     "shell.execute_reply": "2024-01-29T21:00:22.750576Z"
    },
    "papermill": {
     "duration": 0.018223,
     "end_time": "2024-01-29T21:00:22.753668",
     "exception": false,
     "start_time": "2024-01-29T21:00:22.735445",
     "status": "completed"
    },
    "tags": []
   },
   "outputs": [],
   "source": [
    "\n",
    "def remove_dups(ll):\n",
    "    current = ll.head\n",
    "    previous = None\n",
    "    seen = set()\n",
    "\n",
    "    while current:\n",
    "        if current.value in seen:\n",
    "            previous.next = current.next\n",
    "        else:\n",
    "            seen.add(current.value)\n",
    "            previous = current\n",
    "        current = current.next\n",
    "    ll.tail = previous\n",
    "    return ll\n",
    "\n",
    "\n",
    "def remove_dups_followup(ll):\n",
    "    runner = current = ll.head\n",
    "    while current:\n",
    "        runner = current\n",
    "        while runner.next:\n",
    "            if runner.next.value == current.value:\n",
    "                runner.next = runner.next.next\n",
    "            else:\n",
    "                runner = runner.next\n",
    "        current = current.next\n",
    "    ll.tail = runner\n",
    "    return ll\n",
    "\n",
    "\n",
    "def test_remove_dupes():\n",
    "    for f in testable_functions:\n",
    "        start = time.perf_counter()\n",
    "        for _ in range(100):\n",
    "            for values, expected in test_cases:\n",
    "                expected = expected.copy()\n",
    "                deduped = f(LinkedList(values))\n",
    "                assert deduped.values() == expected\n",
    "\n",
    "                deduped.add(5)\n",
    "                expected.append(5)\n",
    "                assert deduped.values() == expected\n",
    "\n",
    "        duration = time.perf_counter() - start\n",
    "        print(f\"{f.__name__} {duration * 1000:.1f}ms\")\n",
    "\n",
    "\n"
   ]
  },
  {
   "cell_type": "code",
   "execution_count": 4,
   "id": "eeebac14",
   "metadata": {
    "execution": {
     "iopub.execute_input": "2024-01-29T21:00:22.764634Z",
     "iopub.status.busy": "2024-01-29T21:00:22.763868Z",
     "iopub.status.idle": "2024-01-29T21:00:22.774510Z",
     "shell.execute_reply": "2024-01-29T21:00:22.773241Z"
    },
    "papermill": {
     "duration": 0.019904,
     "end_time": "2024-01-29T21:00:22.777864",
     "exception": false,
     "start_time": "2024-01-29T21:00:22.757960",
     "status": "completed"
    },
    "tags": []
   },
   "outputs": [
    {
     "name": "stdout",
     "output_type": "stream",
     "text": [
      "4 -> 6 -> 3 -> 8 -> 3 -> 2 -> 4 -> 0 -> 3 -> 3 -> 6 -> 2 -> 1 -> 4 -> 3 -> 1 -> 5 -> 7 -> 2 -> 8 -> 5 -> 5 -> 5 -> 0 -> 6 -> 1 -> 3 -> 3 -> 8 -> 2 -> 3 -> 1 -> 6 -> 8 -> 2 -> 0 -> 3 -> 3 -> 6 -> 8 -> 4 -> 8 -> 1 -> 1 -> 6 -> 5 -> 2 -> 2 -> 5 -> 3 -> 1 -> 3 -> 1 -> 1 -> 1 -> 0 -> 5 -> 2 -> 2 -> 3 -> 3 -> 1 -> 6 -> 8 -> 4 -> 7 -> 8 -> 7 -> 3 -> 1 -> 8 -> 5 -> 4 -> 5 -> 6 -> 0 -> 5 -> 3 -> 3 -> 7 -> 6 -> 4 -> 8 -> 4 -> 2 -> 7 -> 8 -> 4 -> 3 -> 3 -> 8 -> 8 -> 4 -> 6 -> 0 -> 0 -> 6 -> 7 -> 6 -> 6\n",
      "4 -> 6 -> 3 -> 8 -> 2 -> 0 -> 1 -> 5 -> 7\n",
      "5 -> 5 -> 3 -> 7 -> 5 -> 7 -> 2 -> 4 -> 6 -> 7 -> 6 -> 2 -> 4 -> 0 -> 6 -> 1 -> 6 -> 6 -> 0 -> 8 -> 7 -> 3 -> 5 -> 7 -> 0 -> 1 -> 3 -> 6 -> 5 -> 1 -> 5 -> 6 -> 1 -> 3 -> 7 -> 3 -> 0 -> 8 -> 8 -> 4 -> 6 -> 4 -> 7 -> 2 -> 3 -> 8 -> 1 -> 5 -> 6 -> 6 -> 1 -> 1 -> 0 -> 0 -> 4 -> 2 -> 5 -> 4 -> 0 -> 7 -> 5 -> 7 -> 3 -> 7 -> 4 -> 6 -> 3 -> 8 -> 6 -> 7 -> 4 -> 8 -> 8 -> 3 -> 5 -> 6 -> 7 -> 5 -> 7 -> 6 -> 2 -> 1 -> 1 -> 3 -> 2 -> 3 -> 7 -> 7 -> 8 -> 0 -> 6 -> 6 -> 6 -> 1 -> 1 -> 0 -> 8 -> 2 -> 5 -> 2\n",
      "5 -> 3 -> 7 -> 2 -> 4 -> 6 -> 0 -> 1 -> 8\n"
     ]
    }
   ],
   "source": [
    "testable_functions = (remove_dups, remove_dups_followup)\n",
    "test_cases = (\n",
    "    ([], []),\n",
    "    ([1, 1, 1, 1, 1, 1], [1]),\n",
    "    ([1, 2, 3, 2], [1, 2, 3]),\n",
    "    ([1, 2, 2, 3], [1, 2, 3]),\n",
    "    ([1, 1, 2, 3], [1, 2, 3]),\n",
    "    ([1, 2, 3], [1, 2, 3]),\n",
    ")\n",
    "\n",
    "\n",
    "def example():\n",
    "    ll = LinkedList.generate(100, 0, 9)\n",
    "    print(ll)\n",
    "    remove_dups(ll)\n",
    "    print(ll)\n",
    "\n",
    "    ll = LinkedList.generate(100, 0, 9)\n",
    "    print(ll)\n",
    "    remove_dups_followup(ll)\n",
    "    print(ll)\n",
    "\n",
    "\n",
    "if __name__ == \"__main__\":\n",
    "    example()"
   ]
  },
  {
   "cell_type": "markdown",
   "id": "ed4224b6",
   "metadata": {
    "papermill": {
     "duration": 0.004313,
     "end_time": "2024-01-29T21:00:22.786885",
     "exception": false,
     "start_time": "2024-01-29T21:00:22.782572",
     "status": "completed"
    },
    "tags": []
   },
   "source": [
    "##### Q2. Find Kth to the last element of the singly linked list"
   ]
  },
  {
   "cell_type": "code",
   "execution_count": 5,
   "id": "c1839fd1",
   "metadata": {
    "execution": {
     "iopub.execute_input": "2024-01-29T21:00:22.798241Z",
     "iopub.status.busy": "2024-01-29T21:00:22.797518Z",
     "iopub.status.idle": "2024-01-29T21:00:22.808796Z",
     "shell.execute_reply": "2024-01-29T21:00:22.807902Z"
    },
    "papermill": {
     "duration": 0.019571,
     "end_time": "2024-01-29T21:00:22.811151",
     "exception": false,
     "start_time": "2024-01-29T21:00:22.791580",
     "status": "completed"
    },
    "tags": []
   },
   "outputs": [],
   "source": [
    "\n",
    "def kth_to_last(ll, k):\n",
    "    leader = follower = ll.head\n",
    "    count = 0\n",
    "\n",
    "    while leader:\n",
    "        if count >= k:\n",
    "            follower = follower.next\n",
    "        count += 1\n",
    "        leader = leader.next\n",
    "    return follower\n",
    "\n",
    "\n",
    "# O(N) space\n",
    "def kth_last_recursive(ll, k):\n",
    "    head = ll.head\n",
    "    counter = 0\n",
    "\n",
    "    def helper(head, k):\n",
    "        nonlocal counter\n",
    "        if not head:\n",
    "            return None\n",
    "        helper_node = helper(head.next, k)\n",
    "        counter = counter + 1\n",
    "        if counter == k:\n",
    "            return head\n",
    "        return helper_node\n",
    "\n",
    "    return helper(head, k)\n",
    "\n",
    "\n",
    "test_cases = (\n",
    "    # list, k, expected\n",
    "    ((10, 20, 30, 40, 50), 1, 50),\n",
    "    ((10, 20, 30, 40, 50), 5, 10),\n",
    ")\n",
    "\n",
    "\n",
    "def test_kth_to_last():\n",
    "    for linked_list_values, k, expected in test_cases:\n",
    "        ll = LinkedList(linked_list_values)\n",
    "        assert kth_to_last(ll, k).value == expected\n",
    "        assert kth_last_recursive(ll, k).value == expected\n",
    "\n",
    "\n",
    "if __name__ == \"__main__\":\n",
    "    test_kth_to_last()"
   ]
  },
  {
   "cell_type": "markdown",
   "id": "22472727",
   "metadata": {
    "papermill": {
     "duration": 0.004239,
     "end_time": "2024-01-29T21:00:22.820239",
     "exception": false,
     "start_time": "2024-01-29T21:00:22.816000",
     "status": "completed"
    },
    "tags": []
   },
   "source": [
    "##### Q3 Delete Middle Row"
   ]
  },
  {
   "cell_type": "code",
   "execution_count": 6,
   "id": "76da5f5d",
   "metadata": {
    "execution": {
     "iopub.execute_input": "2024-01-29T21:00:22.832002Z",
     "iopub.status.busy": "2024-01-29T21:00:22.830683Z",
     "iopub.status.idle": "2024-01-29T21:00:22.838879Z",
     "shell.execute_reply": "2024-01-29T21:00:22.837802Z"
    },
    "papermill": {
     "duration": 0.016479,
     "end_time": "2024-01-29T21:00:22.841296",
     "exception": false,
     "start_time": "2024-01-29T21:00:22.824817",
     "status": "completed"
    },
    "tags": []
   },
   "outputs": [
    {
     "name": "stdout",
     "output_type": "stream",
     "text": [
      "1 -> 2 -> 3 -> 4 -> 5 -> 7 -> 8 -> 9\n",
      "1 -> 2 -> 3 -> 4 -> 7 -> 8 -> 9\n"
     ]
    }
   ],
   "source": [
    "\n",
    "\n",
    "def delete_middle_node(node):\n",
    "    node.value = node.next.value\n",
    "    node.next = node.next.next\n",
    "\n",
    "\n",
    "if __name__ == \"__main__\":\n",
    "    ll = LinkedList()\n",
    "    ll.add_multiple([1, 2, 3, 4])\n",
    "    middle_node = ll.add(5)\n",
    "    ll.add_multiple([7, 8, 9])\n",
    "\n",
    "    print(ll)\n",
    "    delete_middle_node(middle_node)\n",
    "    print(ll)"
   ]
  },
  {
   "cell_type": "code",
   "execution_count": null,
   "id": "f154160d",
   "metadata": {
    "papermill": {
     "duration": 0.004295,
     "end_time": "2024-01-29T21:00:22.850301",
     "exception": false,
     "start_time": "2024-01-29T21:00:22.846006",
     "status": "completed"
    },
    "tags": []
   },
   "outputs": [],
   "source": []
  }
 ],
 "metadata": {
  "kaggle": {
   "accelerator": "none",
   "dataSources": [],
   "dockerImageVersionId": 30635,
   "isGpuEnabled": false,
   "isInternetEnabled": true,
   "language": "python",
   "sourceType": "notebook"
  },
  "kernelspec": {
   "display_name": "Python 3",
   "language": "python",
   "name": "python3"
  },
  "language_info": {
   "codemirror_mode": {
    "name": "ipython",
    "version": 3
   },
   "file_extension": ".py",
   "mimetype": "text/x-python",
   "name": "python",
   "nbconvert_exporter": "python",
   "pygments_lexer": "ipython3",
   "version": "3.10.12"
  },
  "papermill": {
   "default_parameters": {},
   "duration": 5.828431,
   "end_time": "2024-01-29T21:00:23.376291",
   "environment_variables": {},
   "exception": null,
   "input_path": "__notebook__.ipynb",
   "output_path": "__notebook__.ipynb",
   "parameters": {},
   "start_time": "2024-01-29T21:00:17.547860",
   "version": "2.4.0"
  }
 },
 "nbformat": 4,
 "nbformat_minor": 5
}
