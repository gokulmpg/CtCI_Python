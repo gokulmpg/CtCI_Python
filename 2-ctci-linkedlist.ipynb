{
 "cells": [
  {
   "cell_type": "code",
   "execution_count": 1,
   "id": "aeb5715a",
   "metadata": {
    "_cell_guid": "b1076dfc-b9ad-4769-8c92-a6c4dae69d19",
    "_uuid": "8f2839f25d086af736a60e9eeb907d3b93b6e0e5",
    "execution": {
     "iopub.execute_input": "2024-01-30T18:30:34.422746Z",
     "iopub.status.busy": "2024-01-30T18:30:34.422333Z",
     "iopub.status.idle": "2024-01-30T18:30:35.511767Z",
     "shell.execute_reply": "2024-01-30T18:30:35.510567Z"
    },
    "papermill": {
     "duration": 1.10088,
     "end_time": "2024-01-30T18:30:35.514943",
     "exception": false,
     "start_time": "2024-01-30T18:30:34.414063",
     "status": "completed"
    },
    "tags": []
   },
   "outputs": [],
   "source": [
    "# This Python 3 environment comes with many helpful analytics libraries installed\n",
    "# It is defined by the kaggle/python Docker image: https://github.com/kaggle/docker-python\n",
    "# For example, here's several helpful packages to load\n",
    "\n",
    "import numpy as np # linear algebra\n",
    "import pandas as pd # data processing, CSV file I/O (e.g. pd.read_csv)\n",
    "\n",
    "# Input data files are available in the read-only \"../input/\" directory\n",
    "# For example, running this (by clicking run or pressing Shift+Enter) will list all files under the input directory\n",
    "\n",
    "import os\n",
    "for dirname, _, filenames in os.walk('/kaggle/input'):\n",
    "    for filename in filenames:\n",
    "        print(os.path.join(dirname, filename))\n",
    "\n",
    "# You can write up to 20GB to the current directory (/kaggle/working/) that gets preserved as output when you create a version using \"Save & Run All\" \n",
    "# You can also write temporary files to /kaggle/temp/, but they won't be saved outside of the current session"
   ]
  },
  {
   "cell_type": "markdown",
   "id": "1ca2a032",
   "metadata": {
    "papermill": {
     "duration": 0.006718,
     "end_time": "2024-01-30T18:30:35.530670",
     "exception": false,
     "start_time": "2024-01-30T18:30:35.523952",
     "status": "completed"
    },
    "tags": []
   },
   "source": [
    "#### Creating a Linked List\n",
    "> The code below implements a very basic singly linked list."
   ]
  },
  {
   "cell_type": "code",
   "execution_count": 2,
   "id": "1b0b9793",
   "metadata": {
    "execution": {
     "iopub.execute_input": "2024-01-30T18:30:35.546649Z",
     "iopub.status.busy": "2024-01-30T18:30:35.545993Z",
     "iopub.status.idle": "2024-01-30T18:30:35.568870Z",
     "shell.execute_reply": "2024-01-30T18:30:35.567757Z"
    },
    "papermill": {
     "duration": 0.033698,
     "end_time": "2024-01-30T18:30:35.571740",
     "exception": false,
     "start_time": "2024-01-30T18:30:35.538042",
     "status": "completed"
    },
    "tags": []
   },
   "outputs": [],
   "source": [
    "import random\n",
    "\n",
    "\n",
    "class LinkedListNode:\n",
    "    def __init__(self, value, next_node=None, prev_node=None):\n",
    "        self.value = value\n",
    "        self.next = next_node\n",
    "        self.prev = prev_node\n",
    "\n",
    "    def __str__(self):\n",
    "        return str(self.value)\n",
    "\n",
    "\n",
    "class LinkedList:\n",
    "    def __init__(self, values=None):\n",
    "        self.head = None\n",
    "        self.tail = None\n",
    "        if values is not None:\n",
    "            self.add_multiple(values)\n",
    "\n",
    "    def __iter__(self):\n",
    "        current = self.head\n",
    "        while current:\n",
    "            yield current\n",
    "            current = current.next\n",
    "\n",
    "    def __str__(self):\n",
    "        values = [str(x) for x in self]\n",
    "        return \" -> \".join(values)\n",
    "\n",
    "    def __len__(self):\n",
    "        result = 0\n",
    "        node = self.head\n",
    "        while node:\n",
    "            result += 1\n",
    "            node = node.next\n",
    "        return result\n",
    "\n",
    "    def values(self):\n",
    "        return [x.value for x in self]\n",
    "\n",
    "    def add(self, value):\n",
    "        if self.head is None:\n",
    "            self.tail = self.head = LinkedListNode(value)\n",
    "        else:\n",
    "            self.tail.next = LinkedListNode(value)\n",
    "            self.tail = self.tail.next\n",
    "        return self.tail\n",
    "\n",
    "    def add_to_beginning(self, value):\n",
    "        if self.head is None:\n",
    "            self.tail = self.head = LinkedListNode(value)\n",
    "        else:\n",
    "            self.head = LinkedListNode(value, self.head)\n",
    "        return self.head\n",
    "\n",
    "    def add_multiple(self, values):\n",
    "        for v in values:\n",
    "            self.add(v)\n",
    "\n",
    "    @classmethod\n",
    "    def generate(cls, k, min_value, max_value):\n",
    "        return cls(random.choices(range(min_value, max_value), k=k))\n",
    "\n",
    "\n",
    "class DoublyLinkedList(LinkedList):\n",
    "    def add(self, value):\n",
    "        if self.head is None:\n",
    "            self.tail = self.head = LinkedListNode(value)\n",
    "        else:\n",
    "            self.tail.next = LinkedListNode(value, None, self.tail)\n",
    "            self.tail = self.tail.next\n",
    "        return self"
   ]
  },
  {
   "cell_type": "markdown",
   "id": "01443e33",
   "metadata": {
    "papermill": {
     "duration": 0.007387,
     "end_time": "2024-01-30T18:30:35.585510",
     "exception": false,
     "start_time": "2024-01-30T18:30:35.578123",
     "status": "completed"
    },
    "tags": []
   },
   "source": [
    "##### Q1. Remove Duplicates\n",
    "\n"
   ]
  },
  {
   "cell_type": "code",
   "execution_count": 3,
   "id": "01b9e3c2",
   "metadata": {
    "execution": {
     "iopub.execute_input": "2024-01-30T18:30:35.601022Z",
     "iopub.status.busy": "2024-01-30T18:30:35.600631Z",
     "iopub.status.idle": "2024-01-30T18:30:35.613616Z",
     "shell.execute_reply": "2024-01-30T18:30:35.612350Z"
    },
    "papermill": {
     "duration": 0.024043,
     "end_time": "2024-01-30T18:30:35.617065",
     "exception": false,
     "start_time": "2024-01-30T18:30:35.593022",
     "status": "completed"
    },
    "tags": []
   },
   "outputs": [],
   "source": [
    "\n",
    "def remove_dups(ll):\n",
    "    current = ll.head\n",
    "    previous = None\n",
    "    seen = set()\n",
    "\n",
    "    while current:\n",
    "        if current.value in seen:\n",
    "            previous.next = current.next\n",
    "        else:\n",
    "            seen.add(current.value)\n",
    "            previous = current\n",
    "        current = current.next\n",
    "    ll.tail = previous\n",
    "    return ll\n",
    "\n",
    "\n",
    "def remove_dups_followup(ll):\n",
    "    runner = current = ll.head\n",
    "    while current:\n",
    "        runner = current\n",
    "        while runner.next:\n",
    "            if runner.next.value == current.value:\n",
    "                runner.next = runner.next.next\n",
    "            else:\n",
    "                runner = runner.next\n",
    "        current = current.next\n",
    "    ll.tail = runner\n",
    "    return ll\n",
    "\n",
    "\n",
    "def test_remove_dupes():\n",
    "    for f in testable_functions:\n",
    "        start = time.perf_counter()\n",
    "        for _ in range(100):\n",
    "            for values, expected in test_cases:\n",
    "                expected = expected.copy()\n",
    "                deduped = f(LinkedList(values))\n",
    "                assert deduped.values() == expected\n",
    "\n",
    "                deduped.add(5)\n",
    "                expected.append(5)\n",
    "                assert deduped.values() == expected\n",
    "\n",
    "        duration = time.perf_counter() - start\n",
    "        print(f\"{f.__name__} {duration * 1000:.1f}ms\")\n",
    "\n",
    "\n"
   ]
  },
  {
   "cell_type": "code",
   "execution_count": 4,
   "id": "407937b7",
   "metadata": {
    "execution": {
     "iopub.execute_input": "2024-01-30T18:30:35.639545Z",
     "iopub.status.busy": "2024-01-30T18:30:35.638980Z",
     "iopub.status.idle": "2024-01-30T18:30:35.652120Z",
     "shell.execute_reply": "2024-01-30T18:30:35.650350Z"
    },
    "papermill": {
     "duration": 0.028541,
     "end_time": "2024-01-30T18:30:35.655731",
     "exception": false,
     "start_time": "2024-01-30T18:30:35.627190",
     "status": "completed"
    },
    "tags": []
   },
   "outputs": [
    {
     "name": "stdout",
     "output_type": "stream",
     "text": [
      "2 -> 7 -> 5 -> 6 -> 7 -> 7 -> 8 -> 6 -> 1 -> 5 -> 5 -> 8 -> 6 -> 7 -> 7 -> 5 -> 6 -> 7 -> 6 -> 7 -> 8 -> 6 -> 6 -> 3 -> 7 -> 4 -> 3 -> 7 -> 6 -> 5 -> 3 -> 8 -> 6 -> 1 -> 4 -> 2 -> 3 -> 3 -> 7 -> 4 -> 8 -> 3 -> 3 -> 2 -> 2 -> 4 -> 7 -> 4 -> 0 -> 2 -> 1 -> 7 -> 8 -> 8 -> 3 -> 6 -> 2 -> 4 -> 2 -> 7 -> 3 -> 5 -> 4 -> 4 -> 6 -> 5 -> 5 -> 5 -> 7 -> 0 -> 2 -> 2 -> 7 -> 5 -> 4 -> 8 -> 5 -> 5 -> 7 -> 2 -> 6 -> 6 -> 5 -> 3 -> 4 -> 2 -> 7 -> 4 -> 5 -> 6 -> 0 -> 6 -> 2 -> 8 -> 8 -> 0 -> 3 -> 8 -> 7 -> 3\n",
      "2 -> 7 -> 5 -> 6 -> 8 -> 1 -> 3 -> 4 -> 0\n",
      "1 -> 4 -> 2 -> 3 -> 6 -> 4 -> 0 -> 2 -> 4 -> 1 -> 8 -> 7 -> 7 -> 0 -> 6 -> 3 -> 4 -> 2 -> 5 -> 1 -> 5 -> 3 -> 8 -> 1 -> 7 -> 6 -> 1 -> 3 -> 6 -> 6 -> 5 -> 6 -> 0 -> 2 -> 3 -> 7 -> 5 -> 6 -> 1 -> 7 -> 7 -> 4 -> 0 -> 0 -> 7 -> 2 -> 7 -> 8 -> 1 -> 8 -> 1 -> 8 -> 7 -> 6 -> 4 -> 1 -> 0 -> 2 -> 1 -> 4 -> 0 -> 3 -> 7 -> 2 -> 7 -> 8 -> 8 -> 7 -> 6 -> 8 -> 4 -> 4 -> 6 -> 4 -> 8 -> 6 -> 6 -> 4 -> 8 -> 0 -> 6 -> 2 -> 8 -> 6 -> 1 -> 8 -> 8 -> 4 -> 0 -> 6 -> 2 -> 0 -> 1 -> 8 -> 5 -> 2 -> 7 -> 7 -> 5 -> 5\n",
      "1 -> 4 -> 2 -> 3 -> 6 -> 0 -> 8 -> 7 -> 5\n"
     ]
    }
   ],
   "source": [
    "testable_functions = (remove_dups, remove_dups_followup)\n",
    "test_cases = (\n",
    "    ([], []),\n",
    "    ([1, 1, 1, 1, 1, 1], [1]),\n",
    "    ([1, 2, 3, 2], [1, 2, 3]),\n",
    "    ([1, 2, 2, 3], [1, 2, 3]),\n",
    "    ([1, 1, 2, 3], [1, 2, 3]),\n",
    "    ([1, 2, 3], [1, 2, 3]),\n",
    ")\n",
    "\n",
    "\n",
    "def example():\n",
    "    ll = LinkedList.generate(100, 0, 9)\n",
    "    print(ll)\n",
    "    remove_dups(ll)\n",
    "    print(ll)\n",
    "\n",
    "    ll = LinkedList.generate(100, 0, 9)\n",
    "    print(ll)\n",
    "    remove_dups_followup(ll)\n",
    "    print(ll)\n",
    "\n",
    "\n",
    "if __name__ == \"__main__\":\n",
    "    example()"
   ]
  },
  {
   "cell_type": "markdown",
   "id": "c8211a89",
   "metadata": {
    "papermill": {
     "duration": 0.008199,
     "end_time": "2024-01-30T18:30:35.672060",
     "exception": false,
     "start_time": "2024-01-30T18:30:35.663861",
     "status": "completed"
    },
    "tags": []
   },
   "source": [
    "##### Q2. Find Kth to the last element of the singly linked list"
   ]
  },
  {
   "cell_type": "code",
   "execution_count": 5,
   "id": "b2ade0b8",
   "metadata": {
    "execution": {
     "iopub.execute_input": "2024-01-30T18:30:35.688527Z",
     "iopub.status.busy": "2024-01-30T18:30:35.687803Z",
     "iopub.status.idle": "2024-01-30T18:30:35.698615Z",
     "shell.execute_reply": "2024-01-30T18:30:35.697572Z"
    },
    "papermill": {
     "duration": 0.021489,
     "end_time": "2024-01-30T18:30:35.701193",
     "exception": false,
     "start_time": "2024-01-30T18:30:35.679704",
     "status": "completed"
    },
    "tags": []
   },
   "outputs": [],
   "source": [
    "\n",
    "def kth_to_last(ll, k):\n",
    "    leader = follower = ll.head\n",
    "    count = 0\n",
    "\n",
    "    while leader:\n",
    "        if count >= k:\n",
    "            follower = follower.next\n",
    "        count += 1\n",
    "        leader = leader.next\n",
    "    return follower\n",
    "\n",
    "\n",
    "# O(N) space\n",
    "def kth_last_recursive(ll, k):\n",
    "    head = ll.head\n",
    "    counter = 0\n",
    "\n",
    "    def helper(head, k):\n",
    "        nonlocal counter\n",
    "        if not head:\n",
    "            return None\n",
    "        helper_node = helper(head.next, k)\n",
    "        counter = counter + 1\n",
    "        if counter == k:\n",
    "            return head\n",
    "        return helper_node\n",
    "\n",
    "    return helper(head, k)\n",
    "\n",
    "\n",
    "test_cases = (\n",
    "    # list, k, expected\n",
    "    ((10, 20, 30, 40, 50), 1, 50),\n",
    "    ((10, 20, 30, 40, 50), 5, 10),\n",
    ")\n",
    "\n",
    "\n",
    "def test_kth_to_last():\n",
    "    for linked_list_values, k, expected in test_cases:\n",
    "        ll = LinkedList(linked_list_values)\n",
    "        assert kth_to_last(ll, k).value == expected\n",
    "        assert kth_last_recursive(ll, k).value == expected\n",
    "\n",
    "\n",
    "if __name__ == \"__main__\":\n",
    "    test_kth_to_last()"
   ]
  },
  {
   "cell_type": "markdown",
   "id": "9cebd20b",
   "metadata": {
    "papermill": {
     "duration": 0.006508,
     "end_time": "2024-01-30T18:30:35.714142",
     "exception": false,
     "start_time": "2024-01-30T18:30:35.707634",
     "status": "completed"
    },
    "tags": []
   },
   "source": [
    "##### Q3 Delete Middle Row"
   ]
  },
  {
   "cell_type": "code",
   "execution_count": 6,
   "id": "61aaa25f",
   "metadata": {
    "execution": {
     "iopub.execute_input": "2024-01-30T18:30:35.729936Z",
     "iopub.status.busy": "2024-01-30T18:30:35.729269Z",
     "iopub.status.idle": "2024-01-30T18:30:35.737368Z",
     "shell.execute_reply": "2024-01-30T18:30:35.736051Z"
    },
    "papermill": {
     "duration": 0.018697,
     "end_time": "2024-01-30T18:30:35.739727",
     "exception": false,
     "start_time": "2024-01-30T18:30:35.721030",
     "status": "completed"
    },
    "tags": []
   },
   "outputs": [
    {
     "name": "stdout",
     "output_type": "stream",
     "text": [
      "1 -> 2 -> 3 -> 4 -> 5 -> 7 -> 8 -> 9\n",
      "1 -> 2 -> 3 -> 4 -> 7 -> 8 -> 9\n"
     ]
    }
   ],
   "source": [
    "\n",
    "\n",
    "def delete_middle_node(node):\n",
    "    node.value = node.next.value\n",
    "    node.next = node.next.next\n",
    "\n",
    "\n",
    "if __name__ == \"__main__\":\n",
    "    ll = LinkedList()\n",
    "    ll.add_multiple([1, 2, 3, 4])\n",
    "    middle_node = ll.add(5)\n",
    "    ll.add_multiple([7, 8, 9])\n",
    "\n",
    "    print(ll)\n",
    "    delete_middle_node(middle_node)\n",
    "    print(ll)"
   ]
  },
  {
   "cell_type": "markdown",
   "id": "22419d02",
   "metadata": {
    "papermill": {
     "duration": 0.006187,
     "end_time": "2024-01-30T18:30:35.752618",
     "exception": false,
     "start_time": "2024-01-30T18:30:35.746431",
     "status": "completed"
    },
    "tags": []
   },
   "source": [
    "#### Q 4. Partition a linkedlist so that the node less than x comes before and the node greater than x comes after. X can occur anywhere on the list if present in the list."
   ]
  },
  {
   "cell_type": "code",
   "execution_count": 7,
   "id": "3e552e91",
   "metadata": {
    "execution": {
     "iopub.execute_input": "2024-01-30T18:30:35.768332Z",
     "iopub.status.busy": "2024-01-30T18:30:35.767635Z",
     "iopub.status.idle": "2024-01-30T18:30:35.781620Z",
     "shell.execute_reply": "2024-01-30T18:30:35.780459Z"
    },
    "papermill": {
     "duration": 0.02509,
     "end_time": "2024-01-30T18:30:35.784216",
     "exception": false,
     "start_time": "2024-01-30T18:30:35.759126",
     "status": "completed"
    },
    "tags": []
   },
   "outputs": [],
   "source": [
    "def partition(ll, x):\n",
    "    current = ll.tail = ll.head\n",
    "\n",
    "    while current:\n",
    "        next_node = current.next\n",
    "        current.next = None\n",
    "        if current.value < x:\n",
    "            current.next = ll.head\n",
    "            ll.head = current\n",
    "        else:\n",
    "            ll.tail.next = current\n",
    "            ll.tail = current\n",
    "        current = next_node\n",
    "\n",
    "    # Error check in case all nodes are less than x\n",
    "    if ll.tail.next is not None:\n",
    "        ll.tail.next = None\n",
    "    return ll\n",
    "\n",
    "\n",
    "def lr_partition(_ll: LinkedList, p: int) -> LinkedList:\n",
    "    \"\"\"\n",
    "    Create 2 LinkedList (left and right), and return a combined LinkedList\n",
    "    \"\"\"\n",
    "    left = LinkedList()\n",
    "    right = LinkedList()\n",
    "\n",
    "    current = _ll.head\n",
    "    while current:\n",
    "        if current.value < p:\n",
    "            left.add(current.value)\n",
    "        else:\n",
    "            right.add(current.value)\n",
    "\n",
    "        current = current.next\n",
    "\n",
    "    left.tail.next = right.head\n",
    "    return left\n",
    "\n",
    "\n",
    "def test_lr_partition():\n",
    "    partitioners = [partition, lr_partition]\n",
    "    for partition_func in partitioners:\n",
    "        # book example\n",
    "        ll = LinkedList([3, 5, 8, 5, 10, 2, 1])\n",
    "        assert not is_partitioned(ll, x=5)\n",
    "        ll = partition_func(ll, 5)\n",
    "        assert is_partitioned(ll, x=5), f\"{partition_func} did not partition {ll}\"\n",
    "\n",
    "        # random example\n",
    "        ll = LinkedList.generate(10, 0, 99)\n",
    "        x = ll.head.value\n",
    "        ll = partition_func(ll, x)\n",
    "        assert is_partitioned(ll, x=x), f\"{partition_func} did not partition\"\n",
    "\n",
    "\n",
    "def is_partitioned(ll, x):\n",
    "    seen_gt_partition = False\n",
    "    for node in ll:\n",
    "        if node.value >= x:\n",
    "            seen_gt_partition = True\n",
    "            continue\n",
    "        if seen_gt_partition and node.value < x:\n",
    "            return False\n",
    "    return True"
   ]
  },
  {
   "cell_type": "markdown",
   "id": "805f88dc",
   "metadata": {
    "papermill": {
     "duration": 0.007029,
     "end_time": "2024-01-30T18:30:35.797740",
     "exception": false,
     "start_time": "2024-01-30T18:30:35.790711",
     "status": "completed"
    },
    "tags": []
   },
   "source": [
    "#### Q 5 find the sum of two 3 digit number which are stored as two linkedlist as reversed order.\n",
    "\n",
    "\n",
    "> Creating numeric linkedlist -- Step 1"
   ]
  },
  {
   "cell_type": "code",
   "execution_count": 8,
   "id": "9b697026",
   "metadata": {
    "execution": {
     "iopub.execute_input": "2024-01-30T18:30:35.815274Z",
     "iopub.status.busy": "2024-01-30T18:30:35.814425Z",
     "iopub.status.idle": "2024-01-30T18:30:35.831809Z",
     "shell.execute_reply": "2024-01-30T18:30:35.830557Z"
    },
    "papermill": {
     "duration": 0.030616,
     "end_time": "2024-01-30T18:30:35.835106",
     "exception": false,
     "start_time": "2024-01-30T18:30:35.804490",
     "status": "completed"
    },
    "tags": []
   },
   "outputs": [],
   "source": [
    "\n",
    "def sum_lists(ll_a, ll_b):\n",
    "    n1, n2 = ll_a.head, ll_b.head\n",
    "    ll = NumericLinkedList()\n",
    "    carry = 0\n",
    "    while n1 or n2:\n",
    "        result = carry\n",
    "        if n1:\n",
    "            result += n1.value\n",
    "            n1 = n1.next\n",
    "        if n2:\n",
    "            result += n2.value\n",
    "            n2 = n2.next\n",
    "\n",
    "        ll.add(result % 10)\n",
    "        carry = result // 10\n",
    "\n",
    "    if carry:\n",
    "        ll.add(carry)\n",
    "\n",
    "    return ll\n",
    "\n",
    "\n",
    "def sum_lists_recursive(ll_a, ll_b) -> \"NumericLinkedList\":\n",
    "    def sum_lists_helper(ll1_head, ll2_head, remainder, summed_list):\n",
    "        if ll1_head is None and ll2_head is None:\n",
    "            if remainder != 0:\n",
    "                summed_list.add(remainder)\n",
    "            return summed_list\n",
    "        elif ll1_head is None:\n",
    "            result = ll2_head.value + remainder\n",
    "            summed_list.add(result % 10)\n",
    "            return sum_lists_helper(ll1_head, ll2_head.next, result // 10, summed_list)\n",
    "        elif ll2_head is None:\n",
    "            result = ll1_head.value + remainder\n",
    "            summed_list.add(result % 10)\n",
    "            return sum_lists_helper(ll1_head.next, ll2_head, result // 10, summed_list)\n",
    "        else:\n",
    "            result = ll1_head.value + ll2_head.value + remainder\n",
    "            summed_list.add(result % 10)\n",
    "            return sum_lists_helper(\n",
    "                ll1_head.next, ll2_head.next, result // 10, summed_list\n",
    "            )\n",
    "\n",
    "    return sum_lists_helper(ll_a.head, ll_b.head, 0, NumericLinkedList())\n",
    "\n"
   ]
  },
  {
   "cell_type": "code",
   "execution_count": 9,
   "id": "6f3413d8",
   "metadata": {
    "execution": {
     "iopub.execute_input": "2024-01-30T18:30:35.853664Z",
     "iopub.status.busy": "2024-01-30T18:30:35.852352Z",
     "iopub.status.idle": "2024-01-30T18:30:35.868267Z",
     "shell.execute_reply": "2024-01-30T18:30:35.866930Z"
    },
    "papermill": {
     "duration": 0.027628,
     "end_time": "2024-01-30T18:30:35.871536",
     "exception": false,
     "start_time": "2024-01-30T18:30:35.843908",
     "status": "completed"
    },
    "tags": []
   },
   "outputs": [
    {
     "name": "stdout",
     "output_type": "stream",
     "text": [
      "2 -> 2 -> 8 -> 0\n",
      "2 -> 8 -> 4\n",
      "4 -> 0 -> 3 -> 1\n"
     ]
    }
   ],
   "source": [
    "\n",
    "class NumericLinkedList(LinkedList):\n",
    "    def __init__(self, values=None):\n",
    "        \"\"\"handle integer as input\"\"\"\n",
    "        if isinstance(values, int):\n",
    "            values = [int(c) for c in str(values)]\n",
    "            values.reverse()\n",
    "        elif isinstance(values, list):\n",
    "            values = values.copy()\n",
    "\n",
    "        super().__init__(values)\n",
    "\n",
    "    def numeric_value(self):\n",
    "        number = 0\n",
    "        for place, node in enumerate(self):\n",
    "            number += node.value * 10**place\n",
    "        return number\n",
    "\n",
    "\n",
    "def test_numeric_linked_list():\n",
    "    ll = NumericLinkedList(321)\n",
    "    assert ll.numeric_value() == 321\n",
    "    assert ll.values() == [1, 2, 3]\n",
    "\n",
    "\n",
    "testable_functions = (sum_lists, sum_lists_recursive)\n",
    "\n",
    "\n",
    "#@pytest.fixture(params=testable_functions)\n",
    "def linked_list_summing_function(request):\n",
    "    return request.param\n",
    "\n",
    "\n",
    "\n",
    "#@pytest.mark.parametrize(\"a, b, expected\", test_cases)\n",
    "def test_linked_list_addition(linked_list_summing_function, a, b, expected):\n",
    "    ll_a = NumericLinkedList(a)\n",
    "    ll_b = NumericLinkedList(b)\n",
    "    ll_result = linked_list_summing_function(ll_a, ll_b)\n",
    "    assert ll_result.values() == expected\n",
    "    assert (\n",
    "        ll_a.numeric_value() + ll_b.numeric_value()\n",
    "        == NumericLinkedList(expected).numeric_value()\n",
    "    )\n",
    "\n",
    "    ll_result_reverse = linked_list_summing_function(ll_b, ll_a)\n",
    "    assert ll_result_reverse.values() == expected\n",
    "\n",
    "\n",
    "def example():\n",
    "    ll_a = LinkedList.generate(4, 0, 9)\n",
    "    ll_b = LinkedList.generate(3, 0, 9)\n",
    "    print(ll_a)\n",
    "    print(ll_b)\n",
    "    print(sum_lists(ll_a, ll_b))\n",
    "\n",
    "#import pytest\n",
    "if __name__ == \"__main__\":\n",
    "    example()\n",
    "    #pytest.main(args=[__file__])"
   ]
  },
  {
   "cell_type": "code",
   "execution_count": null,
   "id": "afebb62a",
   "metadata": {
    "papermill": {
     "duration": 0.006297,
     "end_time": "2024-01-30T18:30:35.884439",
     "exception": false,
     "start_time": "2024-01-30T18:30:35.878142",
     "status": "completed"
    },
    "tags": []
   },
   "outputs": [],
   "source": []
  },
  {
   "cell_type": "code",
   "execution_count": null,
   "id": "bdfe57f9",
   "metadata": {
    "papermill": {
     "duration": 0.006211,
     "end_time": "2024-01-30T18:30:35.897382",
     "exception": false,
     "start_time": "2024-01-30T18:30:35.891171",
     "status": "completed"
    },
    "tags": []
   },
   "outputs": [],
   "source": []
  },
  {
   "cell_type": "code",
   "execution_count": null,
   "id": "44651231",
   "metadata": {
    "papermill": {
     "duration": 0.006588,
     "end_time": "2024-01-30T18:30:35.910467",
     "exception": false,
     "start_time": "2024-01-30T18:30:35.903879",
     "status": "completed"
    },
    "tags": []
   },
   "outputs": [],
   "source": []
  }
 ],
 "metadata": {
  "kaggle": {
   "accelerator": "none",
   "dataSources": [],
   "dockerImageVersionId": 30635,
   "isGpuEnabled": false,
   "isInternetEnabled": true,
   "language": "python",
   "sourceType": "notebook"
  },
  "kernelspec": {
   "display_name": "Python 3",
   "language": "python",
   "name": "python3"
  },
  "language_info": {
   "codemirror_mode": {
    "name": "ipython",
    "version": 3
   },
   "file_extension": ".py",
   "mimetype": "text/x-python",
   "name": "python",
   "nbconvert_exporter": "python",
   "pygments_lexer": "ipython3",
   "version": "3.10.12"
  },
  "papermill": {
   "default_parameters": {},
   "duration": 6.817547,
   "end_time": "2024-01-30T18:30:36.443631",
   "environment_variables": {},
   "exception": null,
   "input_path": "__notebook__.ipynb",
   "output_path": "__notebook__.ipynb",
   "parameters": {},
   "start_time": "2024-01-30T18:30:29.626084",
   "version": "2.4.0"
  }
 },
 "nbformat": 4,
 "nbformat_minor": 5
}
