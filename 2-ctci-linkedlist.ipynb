{
 "cells": [
  {
   "cell_type": "code",
   "execution_count": 1,
   "id": "c647af18",
   "metadata": {
    "_cell_guid": "b1076dfc-b9ad-4769-8c92-a6c4dae69d19",
    "_uuid": "8f2839f25d086af736a60e9eeb907d3b93b6e0e5",
    "execution": {
     "iopub.execute_input": "2024-01-30T18:22:42.629331Z",
     "iopub.status.busy": "2024-01-30T18:22:42.628782Z",
     "iopub.status.idle": "2024-01-30T18:22:43.722534Z",
     "shell.execute_reply": "2024-01-30T18:22:43.720942Z"
    },
    "papermill": {
     "duration": 1.105077,
     "end_time": "2024-01-30T18:22:43.725464",
     "exception": false,
     "start_time": "2024-01-30T18:22:42.620387",
     "status": "completed"
    },
    "tags": []
   },
   "outputs": [],
   "source": [
    "# This Python 3 environment comes with many helpful analytics libraries installed\n",
    "# It is defined by the kaggle/python Docker image: https://github.com/kaggle/docker-python\n",
    "# For example, here's several helpful packages to load\n",
    "\n",
    "import numpy as np # linear algebra\n",
    "import pandas as pd # data processing, CSV file I/O (e.g. pd.read_csv)\n",
    "\n",
    "# Input data files are available in the read-only \"../input/\" directory\n",
    "# For example, running this (by clicking run or pressing Shift+Enter) will list all files under the input directory\n",
    "\n",
    "import os\n",
    "for dirname, _, filenames in os.walk('/kaggle/input'):\n",
    "    for filename in filenames:\n",
    "        print(os.path.join(dirname, filename))\n",
    "\n",
    "# You can write up to 20GB to the current directory (/kaggle/working/) that gets preserved as output when you create a version using \"Save & Run All\" \n",
    "# You can also write temporary files to /kaggle/temp/, but they won't be saved outside of the current session"
   ]
  },
  {
   "cell_type": "markdown",
   "id": "48b0fb57",
   "metadata": {
    "papermill": {
     "duration": 0.005346,
     "end_time": "2024-01-30T18:22:43.737265",
     "exception": false,
     "start_time": "2024-01-30T18:22:43.731919",
     "status": "completed"
    },
    "tags": []
   },
   "source": [
    "#### Creating a Linked List\n",
    "> The code below implements a very basic singly linked list."
   ]
  },
  {
   "cell_type": "code",
   "execution_count": 2,
   "id": "e6840102",
   "metadata": {
    "execution": {
     "iopub.execute_input": "2024-01-30T18:22:43.752409Z",
     "iopub.status.busy": "2024-01-30T18:22:43.751433Z",
     "iopub.status.idle": "2024-01-30T18:22:43.773180Z",
     "shell.execute_reply": "2024-01-30T18:22:43.771437Z"
    },
    "papermill": {
     "duration": 0.03357,
     "end_time": "2024-01-30T18:22:43.777008",
     "exception": false,
     "start_time": "2024-01-30T18:22:43.743438",
     "status": "completed"
    },
    "tags": []
   },
   "outputs": [],
   "source": [
    "import random\n",
    "\n",
    "\n",
    "class LinkedListNode:\n",
    "    def __init__(self, value, next_node=None, prev_node=None):\n",
    "        self.value = value\n",
    "        self.next = next_node\n",
    "        self.prev = prev_node\n",
    "\n",
    "    def __str__(self):\n",
    "        return str(self.value)\n",
    "\n",
    "\n",
    "class LinkedList:\n",
    "    def __init__(self, values=None):\n",
    "        self.head = None\n",
    "        self.tail = None\n",
    "        if values is not None:\n",
    "            self.add_multiple(values)\n",
    "\n",
    "    def __iter__(self):\n",
    "        current = self.head\n",
    "        while current:\n",
    "            yield current\n",
    "            current = current.next\n",
    "\n",
    "    def __str__(self):\n",
    "        values = [str(x) for x in self]\n",
    "        return \" -> \".join(values)\n",
    "\n",
    "    def __len__(self):\n",
    "        result = 0\n",
    "        node = self.head\n",
    "        while node:\n",
    "            result += 1\n",
    "            node = node.next\n",
    "        return result\n",
    "\n",
    "    def values(self):\n",
    "        return [x.value for x in self]\n",
    "\n",
    "    def add(self, value):\n",
    "        if self.head is None:\n",
    "            self.tail = self.head = LinkedListNode(value)\n",
    "        else:\n",
    "            self.tail.next = LinkedListNode(value)\n",
    "            self.tail = self.tail.next\n",
    "        return self.tail\n",
    "\n",
    "    def add_to_beginning(self, value):\n",
    "        if self.head is None:\n",
    "            self.tail = self.head = LinkedListNode(value)\n",
    "        else:\n",
    "            self.head = LinkedListNode(value, self.head)\n",
    "        return self.head\n",
    "\n",
    "    def add_multiple(self, values):\n",
    "        for v in values:\n",
    "            self.add(v)\n",
    "\n",
    "    @classmethod\n",
    "    def generate(cls, k, min_value, max_value):\n",
    "        return cls(random.choices(range(min_value, max_value), k=k))\n",
    "\n",
    "\n",
    "class DoublyLinkedList(LinkedList):\n",
    "    def add(self, value):\n",
    "        if self.head is None:\n",
    "            self.tail = self.head = LinkedListNode(value)\n",
    "        else:\n",
    "            self.tail.next = LinkedListNode(value, None, self.tail)\n",
    "            self.tail = self.tail.next\n",
    "        return self"
   ]
  },
  {
   "cell_type": "markdown",
   "id": "57d44baf",
   "metadata": {
    "papermill": {
     "duration": 0.007092,
     "end_time": "2024-01-30T18:22:43.790890",
     "exception": false,
     "start_time": "2024-01-30T18:22:43.783798",
     "status": "completed"
    },
    "tags": []
   },
   "source": [
    "##### Q1. Remove Duplicates\n",
    "\n"
   ]
  },
  {
   "cell_type": "code",
   "execution_count": 3,
   "id": "ae844d13",
   "metadata": {
    "execution": {
     "iopub.execute_input": "2024-01-30T18:22:43.805130Z",
     "iopub.status.busy": "2024-01-30T18:22:43.804260Z",
     "iopub.status.idle": "2024-01-30T18:22:43.816322Z",
     "shell.execute_reply": "2024-01-30T18:22:43.815146Z"
    },
    "papermill": {
     "duration": 0.022065,
     "end_time": "2024-01-30T18:22:43.818908",
     "exception": false,
     "start_time": "2024-01-30T18:22:43.796843",
     "status": "completed"
    },
    "tags": []
   },
   "outputs": [],
   "source": [
    "\n",
    "def remove_dups(ll):\n",
    "    current = ll.head\n",
    "    previous = None\n",
    "    seen = set()\n",
    "\n",
    "    while current:\n",
    "        if current.value in seen:\n",
    "            previous.next = current.next\n",
    "        else:\n",
    "            seen.add(current.value)\n",
    "            previous = current\n",
    "        current = current.next\n",
    "    ll.tail = previous\n",
    "    return ll\n",
    "\n",
    "\n",
    "def remove_dups_followup(ll):\n",
    "    runner = current = ll.head\n",
    "    while current:\n",
    "        runner = current\n",
    "        while runner.next:\n",
    "            if runner.next.value == current.value:\n",
    "                runner.next = runner.next.next\n",
    "            else:\n",
    "                runner = runner.next\n",
    "        current = current.next\n",
    "    ll.tail = runner\n",
    "    return ll\n",
    "\n",
    "\n",
    "def test_remove_dupes():\n",
    "    for f in testable_functions:\n",
    "        start = time.perf_counter()\n",
    "        for _ in range(100):\n",
    "            for values, expected in test_cases:\n",
    "                expected = expected.copy()\n",
    "                deduped = f(LinkedList(values))\n",
    "                assert deduped.values() == expected\n",
    "\n",
    "                deduped.add(5)\n",
    "                expected.append(5)\n",
    "                assert deduped.values() == expected\n",
    "\n",
    "        duration = time.perf_counter() - start\n",
    "        print(f\"{f.__name__} {duration * 1000:.1f}ms\")\n",
    "\n",
    "\n"
   ]
  },
  {
   "cell_type": "code",
   "execution_count": 4,
   "id": "db591822",
   "metadata": {
    "execution": {
     "iopub.execute_input": "2024-01-30T18:22:43.833932Z",
     "iopub.status.busy": "2024-01-30T18:22:43.833017Z",
     "iopub.status.idle": "2024-01-30T18:22:43.844656Z",
     "shell.execute_reply": "2024-01-30T18:22:43.843540Z"
    },
    "papermill": {
     "duration": 0.021374,
     "end_time": "2024-01-30T18:22:43.847497",
     "exception": false,
     "start_time": "2024-01-30T18:22:43.826123",
     "status": "completed"
    },
    "tags": []
   },
   "outputs": [
    {
     "name": "stdout",
     "output_type": "stream",
     "text": [
      "3 -> 5 -> 2 -> 2 -> 0 -> 8 -> 7 -> 1 -> 4 -> 7 -> 8 -> 7 -> 5 -> 7 -> 8 -> 7 -> 1 -> 0 -> 1 -> 5 -> 0 -> 4 -> 0 -> 3 -> 6 -> 6 -> 7 -> 1 -> 0 -> 4 -> 6 -> 6 -> 4 -> 5 -> 8 -> 5 -> 7 -> 0 -> 4 -> 1 -> 6 -> 3 -> 8 -> 7 -> 3 -> 8 -> 1 -> 6 -> 1 -> 4 -> 6 -> 4 -> 6 -> 0 -> 8 -> 6 -> 0 -> 2 -> 5 -> 4 -> 4 -> 0 -> 7 -> 5 -> 1 -> 4 -> 1 -> 2 -> 0 -> 7 -> 1 -> 1 -> 8 -> 0 -> 3 -> 5 -> 8 -> 3 -> 3 -> 8 -> 6 -> 0 -> 1 -> 7 -> 0 -> 5 -> 6 -> 2 -> 6 -> 5 -> 5 -> 4 -> 7 -> 4 -> 7 -> 2 -> 7 -> 8 -> 6 -> 1\n",
      "3 -> 5 -> 2 -> 0 -> 8 -> 7 -> 1 -> 4 -> 6\n",
      "7 -> 6 -> 2 -> 2 -> 7 -> 2 -> 2 -> 6 -> 0 -> 1 -> 0 -> 7 -> 0 -> 6 -> 5 -> 3 -> 6 -> 1 -> 4 -> 3 -> 3 -> 4 -> 1 -> 5 -> 1 -> 2 -> 8 -> 6 -> 5 -> 4 -> 3 -> 7 -> 1 -> 1 -> 7 -> 8 -> 5 -> 8 -> 3 -> 0 -> 4 -> 2 -> 3 -> 1 -> 2 -> 5 -> 4 -> 0 -> 1 -> 4 -> 8 -> 7 -> 6 -> 8 -> 3 -> 5 -> 6 -> 0 -> 6 -> 0 -> 7 -> 7 -> 4 -> 3 -> 8 -> 8 -> 4 -> 5 -> 8 -> 4 -> 3 -> 7 -> 3 -> 7 -> 5 -> 6 -> 2 -> 4 -> 2 -> 3 -> 1 -> 2 -> 0 -> 7 -> 4 -> 1 -> 1 -> 3 -> 2 -> 4 -> 7 -> 3 -> 0 -> 2 -> 5 -> 8 -> 4 -> 0 -> 4 -> 8\n",
      "7 -> 6 -> 2 -> 0 -> 1 -> 5 -> 3 -> 4 -> 8\n"
     ]
    }
   ],
   "source": [
    "testable_functions = (remove_dups, remove_dups_followup)\n",
    "test_cases = (\n",
    "    ([], []),\n",
    "    ([1, 1, 1, 1, 1, 1], [1]),\n",
    "    ([1, 2, 3, 2], [1, 2, 3]),\n",
    "    ([1, 2, 2, 3], [1, 2, 3]),\n",
    "    ([1, 1, 2, 3], [1, 2, 3]),\n",
    "    ([1, 2, 3], [1, 2, 3]),\n",
    ")\n",
    "\n",
    "\n",
    "def example():\n",
    "    ll = LinkedList.generate(100, 0, 9)\n",
    "    print(ll)\n",
    "    remove_dups(ll)\n",
    "    print(ll)\n",
    "\n",
    "    ll = LinkedList.generate(100, 0, 9)\n",
    "    print(ll)\n",
    "    remove_dups_followup(ll)\n",
    "    print(ll)\n",
    "\n",
    "\n",
    "if __name__ == \"__main__\":\n",
    "    example()"
   ]
  },
  {
   "cell_type": "markdown",
   "id": "f3a80e21",
   "metadata": {
    "papermill": {
     "duration": 0.005492,
     "end_time": "2024-01-30T18:22:43.858776",
     "exception": false,
     "start_time": "2024-01-30T18:22:43.853284",
     "status": "completed"
    },
    "tags": []
   },
   "source": [
    "##### Q2. Find Kth to the last element of the singly linked list"
   ]
  },
  {
   "cell_type": "code",
   "execution_count": 5,
   "id": "c5767018",
   "metadata": {
    "execution": {
     "iopub.execute_input": "2024-01-30T18:22:43.874890Z",
     "iopub.status.busy": "2024-01-30T18:22:43.873624Z",
     "iopub.status.idle": "2024-01-30T18:22:43.885377Z",
     "shell.execute_reply": "2024-01-30T18:22:43.884024Z"
    },
    "papermill": {
     "duration": 0.022145,
     "end_time": "2024-01-30T18:22:43.888219",
     "exception": false,
     "start_time": "2024-01-30T18:22:43.866074",
     "status": "completed"
    },
    "tags": []
   },
   "outputs": [],
   "source": [
    "\n",
    "def kth_to_last(ll, k):\n",
    "    leader = follower = ll.head\n",
    "    count = 0\n",
    "\n",
    "    while leader:\n",
    "        if count >= k:\n",
    "            follower = follower.next\n",
    "        count += 1\n",
    "        leader = leader.next\n",
    "    return follower\n",
    "\n",
    "\n",
    "# O(N) space\n",
    "def kth_last_recursive(ll, k):\n",
    "    head = ll.head\n",
    "    counter = 0\n",
    "\n",
    "    def helper(head, k):\n",
    "        nonlocal counter\n",
    "        if not head:\n",
    "            return None\n",
    "        helper_node = helper(head.next, k)\n",
    "        counter = counter + 1\n",
    "        if counter == k:\n",
    "            return head\n",
    "        return helper_node\n",
    "\n",
    "    return helper(head, k)\n",
    "\n",
    "\n",
    "test_cases = (\n",
    "    # list, k, expected\n",
    "    ((10, 20, 30, 40, 50), 1, 50),\n",
    "    ((10, 20, 30, 40, 50), 5, 10),\n",
    ")\n",
    "\n",
    "\n",
    "def test_kth_to_last():\n",
    "    for linked_list_values, k, expected in test_cases:\n",
    "        ll = LinkedList(linked_list_values)\n",
    "        assert kth_to_last(ll, k).value == expected\n",
    "        assert kth_last_recursive(ll, k).value == expected\n",
    "\n",
    "\n",
    "if __name__ == \"__main__\":\n",
    "    test_kth_to_last()"
   ]
  },
  {
   "cell_type": "markdown",
   "id": "6c359673",
   "metadata": {
    "papermill": {
     "duration": 0.005499,
     "end_time": "2024-01-30T18:22:43.899638",
     "exception": false,
     "start_time": "2024-01-30T18:22:43.894139",
     "status": "completed"
    },
    "tags": []
   },
   "source": [
    "##### Q3 Delete Middle Row"
   ]
  },
  {
   "cell_type": "code",
   "execution_count": 6,
   "id": "25bf1fb3",
   "metadata": {
    "execution": {
     "iopub.execute_input": "2024-01-30T18:22:43.913492Z",
     "iopub.status.busy": "2024-01-30T18:22:43.913068Z",
     "iopub.status.idle": "2024-01-30T18:22:43.921010Z",
     "shell.execute_reply": "2024-01-30T18:22:43.919917Z"
    },
    "papermill": {
     "duration": 0.018004,
     "end_time": "2024-01-30T18:22:43.923462",
     "exception": false,
     "start_time": "2024-01-30T18:22:43.905458",
     "status": "completed"
    },
    "tags": []
   },
   "outputs": [
    {
     "name": "stdout",
     "output_type": "stream",
     "text": [
      "1 -> 2 -> 3 -> 4 -> 5 -> 7 -> 8 -> 9\n",
      "1 -> 2 -> 3 -> 4 -> 7 -> 8 -> 9\n"
     ]
    }
   ],
   "source": [
    "\n",
    "\n",
    "def delete_middle_node(node):\n",
    "    node.value = node.next.value\n",
    "    node.next = node.next.next\n",
    "\n",
    "\n",
    "if __name__ == \"__main__\":\n",
    "    ll = LinkedList()\n",
    "    ll.add_multiple([1, 2, 3, 4])\n",
    "    middle_node = ll.add(5)\n",
    "    ll.add_multiple([7, 8, 9])\n",
    "\n",
    "    print(ll)\n",
    "    delete_middle_node(middle_node)\n",
    "    print(ll)"
   ]
  },
  {
   "cell_type": "markdown",
   "id": "05d56594",
   "metadata": {
    "papermill": {
     "duration": 0.005494,
     "end_time": "2024-01-30T18:22:43.934852",
     "exception": false,
     "start_time": "2024-01-30T18:22:43.929358",
     "status": "completed"
    },
    "tags": []
   },
   "source": [
    "#### Q 4. Partition a linkedlist so that the node less than x comes before and the node greater than x comes after. X can occur anywhere on the list if present in the list."
   ]
  },
  {
   "cell_type": "code",
   "execution_count": 7,
   "id": "5c7a49b1",
   "metadata": {
    "execution": {
     "iopub.execute_input": "2024-01-30T18:22:43.948752Z",
     "iopub.status.busy": "2024-01-30T18:22:43.948102Z",
     "iopub.status.idle": "2024-01-30T18:22:43.964037Z",
     "shell.execute_reply": "2024-01-30T18:22:43.962586Z"
    },
    "papermill": {
     "duration": 0.026426,
     "end_time": "2024-01-30T18:22:43.967045",
     "exception": false,
     "start_time": "2024-01-30T18:22:43.940619",
     "status": "completed"
    },
    "tags": []
   },
   "outputs": [],
   "source": [
    "def partition(ll, x):\n",
    "    current = ll.tail = ll.head\n",
    "\n",
    "    while current:\n",
    "        next_node = current.next\n",
    "        current.next = None\n",
    "        if current.value < x:\n",
    "            current.next = ll.head\n",
    "            ll.head = current\n",
    "        else:\n",
    "            ll.tail.next = current\n",
    "            ll.tail = current\n",
    "        current = next_node\n",
    "\n",
    "    # Error check in case all nodes are less than x\n",
    "    if ll.tail.next is not None:\n",
    "        ll.tail.next = None\n",
    "    return ll\n",
    "\n",
    "\n",
    "def lr_partition(_ll: LinkedList, p: int) -> LinkedList:\n",
    "    \"\"\"\n",
    "    Create 2 LinkedList (left and right), and return a combined LinkedList\n",
    "    \"\"\"\n",
    "    left = LinkedList()\n",
    "    right = LinkedList()\n",
    "\n",
    "    current = _ll.head\n",
    "    while current:\n",
    "        if current.value < p:\n",
    "            left.add(current.value)\n",
    "        else:\n",
    "            right.add(current.value)\n",
    "\n",
    "        current = current.next\n",
    "\n",
    "    left.tail.next = right.head\n",
    "    return left\n",
    "\n",
    "\n",
    "def test_lr_partition():\n",
    "    partitioners = [partition, lr_partition]\n",
    "    for partition_func in partitioners:\n",
    "        # book example\n",
    "        ll = LinkedList([3, 5, 8, 5, 10, 2, 1])\n",
    "        assert not is_partitioned(ll, x=5)\n",
    "        ll = partition_func(ll, 5)\n",
    "        assert is_partitioned(ll, x=5), f\"{partition_func} did not partition {ll}\"\n",
    "\n",
    "        # random example\n",
    "        ll = LinkedList.generate(10, 0, 99)\n",
    "        x = ll.head.value\n",
    "        ll = partition_func(ll, x)\n",
    "        assert is_partitioned(ll, x=x), f\"{partition_func} did not partition\"\n",
    "\n",
    "\n",
    "def is_partitioned(ll, x):\n",
    "    seen_gt_partition = False\n",
    "    for node in ll:\n",
    "        if node.value >= x:\n",
    "            seen_gt_partition = True\n",
    "            continue\n",
    "        if seen_gt_partition and node.value < x:\n",
    "            return False\n",
    "    return True"
   ]
  },
  {
   "cell_type": "code",
   "execution_count": null,
   "id": "4cf499a2",
   "metadata": {
    "papermill": {
     "duration": 0.005573,
     "end_time": "2024-01-30T18:22:43.978446",
     "exception": false,
     "start_time": "2024-01-30T18:22:43.972873",
     "status": "completed"
    },
    "tags": []
   },
   "outputs": [],
   "source": []
  },
  {
   "cell_type": "code",
   "execution_count": null,
   "id": "dab8e230",
   "metadata": {
    "papermill": {
     "duration": 0.005438,
     "end_time": "2024-01-30T18:22:43.989656",
     "exception": false,
     "start_time": "2024-01-30T18:22:43.984218",
     "status": "completed"
    },
    "tags": []
   },
   "outputs": [],
   "source": []
  },
  {
   "cell_type": "code",
   "execution_count": null,
   "id": "a9aae662",
   "metadata": {
    "papermill": {
     "duration": 0.005667,
     "end_time": "2024-01-30T18:22:44.001104",
     "exception": false,
     "start_time": "2024-01-30T18:22:43.995437",
     "status": "completed"
    },
    "tags": []
   },
   "outputs": [],
   "source": []
  },
  {
   "cell_type": "code",
   "execution_count": null,
   "id": "fb46ee94",
   "metadata": {
    "papermill": {
     "duration": 0.005826,
     "end_time": "2024-01-30T18:22:44.014330",
     "exception": false,
     "start_time": "2024-01-30T18:22:44.008504",
     "status": "completed"
    },
    "tags": []
   },
   "outputs": [],
   "source": []
  }
 ],
 "metadata": {
  "kaggle": {
   "accelerator": "none",
   "dataSources": [],
   "dockerImageVersionId": 30635,
   "isGpuEnabled": false,
   "isInternetEnabled": true,
   "language": "python",
   "sourceType": "notebook"
  },
  "kernelspec": {
   "display_name": "Python 3",
   "language": "python",
   "name": "python3"
  },
  "language_info": {
   "codemirror_mode": {
    "name": "ipython",
    "version": 3
   },
   "file_extension": ".py",
   "mimetype": "text/x-python",
   "name": "python",
   "nbconvert_exporter": "python",
   "pygments_lexer": "ipython3",
   "version": "3.10.12"
  },
  "papermill": {
   "default_parameters": {},
   "duration": 6.944212,
   "end_time": "2024-01-30T18:22:44.744021",
   "environment_variables": {},
   "exception": null,
   "input_path": "__notebook__.ipynb",
   "output_path": "__notebook__.ipynb",
   "parameters": {},
   "start_time": "2024-01-30T18:22:37.799809",
   "version": "2.4.0"
  }
 },
 "nbformat": 4,
 "nbformat_minor": 5
}
