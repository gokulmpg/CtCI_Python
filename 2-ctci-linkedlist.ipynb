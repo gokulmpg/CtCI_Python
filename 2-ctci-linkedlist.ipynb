{
 "cells": [
  {
   "cell_type": "code",
   "execution_count": 1,
   "id": "06e4fa11",
   "metadata": {
    "_cell_guid": "b1076dfc-b9ad-4769-8c92-a6c4dae69d19",
    "_uuid": "8f2839f25d086af736a60e9eeb907d3b93b6e0e5",
    "execution": {
     "iopub.execute_input": "2024-01-29T18:26:58.225718Z",
     "iopub.status.busy": "2024-01-29T18:26:58.225320Z",
     "iopub.status.idle": "2024-01-29T18:26:58.651659Z",
     "shell.execute_reply": "2024-01-29T18:26:58.650575Z"
    },
    "papermill": {
     "duration": 0.434524,
     "end_time": "2024-01-29T18:26:58.654320",
     "exception": false,
     "start_time": "2024-01-29T18:26:58.219796",
     "status": "completed"
    },
    "tags": []
   },
   "outputs": [],
   "source": [
    "# This Python 3 environment comes with many helpful analytics libraries installed\n",
    "# It is defined by the kaggle/python Docker image: https://github.com/kaggle/docker-python\n",
    "# For example, here's several helpful packages to load\n",
    "\n",
    "import numpy as np # linear algebra\n",
    "import pandas as pd # data processing, CSV file I/O (e.g. pd.read_csv)\n",
    "\n",
    "# Input data files are available in the read-only \"../input/\" directory\n",
    "# For example, running this (by clicking run or pressing Shift+Enter) will list all files under the input directory\n",
    "\n",
    "import os\n",
    "for dirname, _, filenames in os.walk('/kaggle/input'):\n",
    "    for filename in filenames:\n",
    "        print(os.path.join(dirname, filename))\n",
    "\n",
    "# You can write up to 20GB to the current directory (/kaggle/working/) that gets preserved as output when you create a version using \"Save & Run All\" \n",
    "# You can also write temporary files to /kaggle/temp/, but they won't be saved outside of the current session"
   ]
  },
  {
   "cell_type": "markdown",
   "id": "3d9de704",
   "metadata": {
    "papermill": {
     "duration": 0.004485,
     "end_time": "2024-01-29T18:26:58.662572",
     "exception": false,
     "start_time": "2024-01-29T18:26:58.658087",
     "status": "completed"
    },
    "tags": []
   },
   "source": [
    "#### Creating a Linked List\n",
    "> The code below implements a very basic singly linked list."
   ]
  },
  {
   "cell_type": "code",
   "execution_count": 2,
   "id": "ff5eea1e",
   "metadata": {
    "execution": {
     "iopub.execute_input": "2024-01-29T18:26:58.671192Z",
     "iopub.status.busy": "2024-01-29T18:26:58.670642Z",
     "iopub.status.idle": "2024-01-29T18:26:58.687691Z",
     "shell.execute_reply": "2024-01-29T18:26:58.686710Z"
    },
    "papermill": {
     "duration": 0.024255,
     "end_time": "2024-01-29T18:26:58.690190",
     "exception": false,
     "start_time": "2024-01-29T18:26:58.665935",
     "status": "completed"
    },
    "tags": []
   },
   "outputs": [],
   "source": [
    "import random\n",
    "\n",
    "\n",
    "class LinkedListNode:\n",
    "    def __init__(self, value, next_node=None, prev_node=None):\n",
    "        self.value = value\n",
    "        self.next = next_node\n",
    "        self.prev = prev_node\n",
    "\n",
    "    def __str__(self):\n",
    "        return str(self.value)\n",
    "\n",
    "\n",
    "class LinkedList:\n",
    "    def __init__(self, values=None):\n",
    "        self.head = None\n",
    "        self.tail = None\n",
    "        if values is not None:\n",
    "            self.add_multiple(values)\n",
    "\n",
    "    def __iter__(self):\n",
    "        current = self.head\n",
    "        while current:\n",
    "            yield current\n",
    "            current = current.next\n",
    "\n",
    "    def __str__(self):\n",
    "        values = [str(x) for x in self]\n",
    "        return \" -> \".join(values)\n",
    "\n",
    "    def __len__(self):\n",
    "        result = 0\n",
    "        node = self.head\n",
    "        while node:\n",
    "            result += 1\n",
    "            node = node.next\n",
    "        return result\n",
    "\n",
    "    def values(self):\n",
    "        return [x.value for x in self]\n",
    "\n",
    "    def add(self, value):\n",
    "        if self.head is None:\n",
    "            self.tail = self.head = LinkedListNode(value)\n",
    "        else:\n",
    "            self.tail.next = LinkedListNode(value)\n",
    "            self.tail = self.tail.next\n",
    "        return self.tail\n",
    "\n",
    "    def add_to_beginning(self, value):\n",
    "        if self.head is None:\n",
    "            self.tail = self.head = LinkedListNode(value)\n",
    "        else:\n",
    "            self.head = LinkedListNode(value, self.head)\n",
    "        return self.head\n",
    "\n",
    "    def add_multiple(self, values):\n",
    "        for v in values:\n",
    "            self.add(v)\n",
    "\n",
    "    @classmethod\n",
    "    def generate(cls, k, min_value, max_value):\n",
    "        return cls(random.choices(range(min_value, max_value), k=k))\n",
    "\n",
    "\n",
    "class DoublyLinkedList(LinkedList):\n",
    "    def add(self, value):\n",
    "        if self.head is None:\n",
    "            self.tail = self.head = LinkedListNode(value)\n",
    "        else:\n",
    "            self.tail.next = LinkedListNode(value, None, self.tail)\n",
    "            self.tail = self.tail.next\n",
    "        return self"
   ]
  },
  {
   "cell_type": "markdown",
   "id": "a79d761e",
   "metadata": {
    "papermill": {
     "duration": 0.003143,
     "end_time": "2024-01-29T18:26:58.696885",
     "exception": false,
     "start_time": "2024-01-29T18:26:58.693742",
     "status": "completed"
    },
    "tags": []
   },
   "source": [
    "##### Q1. Remove Duplicates\n",
    "\n"
   ]
  },
  {
   "cell_type": "code",
   "execution_count": 3,
   "id": "c4b4d171",
   "metadata": {
    "execution": {
     "iopub.execute_input": "2024-01-29T18:26:58.705259Z",
     "iopub.status.busy": "2024-01-29T18:26:58.704861Z",
     "iopub.status.idle": "2024-01-29T18:26:58.715896Z",
     "shell.execute_reply": "2024-01-29T18:26:58.714764Z"
    },
    "papermill": {
     "duration": 0.018002,
     "end_time": "2024-01-29T18:26:58.718211",
     "exception": false,
     "start_time": "2024-01-29T18:26:58.700209",
     "status": "completed"
    },
    "tags": []
   },
   "outputs": [],
   "source": [
    "\n",
    "def remove_dups(ll):\n",
    "    current = ll.head\n",
    "    previous = None\n",
    "    seen = set()\n",
    "\n",
    "    while current:\n",
    "        if current.value in seen:\n",
    "            previous.next = current.next\n",
    "        else:\n",
    "            seen.add(current.value)\n",
    "            previous = current\n",
    "        current = current.next\n",
    "    ll.tail = previous\n",
    "    return ll\n",
    "\n",
    "\n",
    "def remove_dups_followup(ll):\n",
    "    runner = current = ll.head\n",
    "    while current:\n",
    "        runner = current\n",
    "        while runner.next:\n",
    "            if runner.next.value == current.value:\n",
    "                runner.next = runner.next.next\n",
    "            else:\n",
    "                runner = runner.next\n",
    "        current = current.next\n",
    "    ll.tail = runner\n",
    "    return ll\n",
    "\n",
    "\n",
    "def test_remove_dupes():\n",
    "    for f in testable_functions:\n",
    "        start = time.perf_counter()\n",
    "        for _ in range(100):\n",
    "            for values, expected in test_cases:\n",
    "                expected = expected.copy()\n",
    "                deduped = f(LinkedList(values))\n",
    "                assert deduped.values() == expected\n",
    "\n",
    "                deduped.add(5)\n",
    "                expected.append(5)\n",
    "                assert deduped.values() == expected\n",
    "\n",
    "        duration = time.perf_counter() - start\n",
    "        print(f\"{f.__name__} {duration * 1000:.1f}ms\")\n",
    "\n",
    "\n"
   ]
  },
  {
   "cell_type": "code",
   "execution_count": 4,
   "id": "0ed8cc0b",
   "metadata": {
    "execution": {
     "iopub.execute_input": "2024-01-29T18:26:58.726941Z",
     "iopub.status.busy": "2024-01-29T18:26:58.726545Z",
     "iopub.status.idle": "2024-01-29T18:26:58.737580Z",
     "shell.execute_reply": "2024-01-29T18:26:58.736327Z"
    },
    "papermill": {
     "duration": 0.018591,
     "end_time": "2024-01-29T18:26:58.740477",
     "exception": false,
     "start_time": "2024-01-29T18:26:58.721886",
     "status": "completed"
    },
    "tags": []
   },
   "outputs": [
    {
     "name": "stdout",
     "output_type": "stream",
     "text": [
      "0 -> 8 -> 5 -> 3 -> 3 -> 0 -> 7 -> 2 -> 6 -> 6 -> 7 -> 2 -> 0 -> 3 -> 7 -> 3 -> 1 -> 2 -> 3 -> 2 -> 5 -> 2 -> 8 -> 0 -> 6 -> 1 -> 6 -> 2 -> 2 -> 8 -> 3 -> 6 -> 3 -> 6 -> 3 -> 0 -> 3 -> 1 -> 8 -> 6 -> 7 -> 0 -> 2 -> 1 -> 2 -> 0 -> 3 -> 2 -> 0 -> 3 -> 2 -> 2 -> 1 -> 5 -> 8 -> 8 -> 4 -> 3 -> 2 -> 4 -> 1 -> 7 -> 0 -> 6 -> 3 -> 7 -> 1 -> 1 -> 3 -> 3 -> 2 -> 4 -> 1 -> 8 -> 1 -> 7 -> 3 -> 8 -> 7 -> 0 -> 1 -> 1 -> 5 -> 1 -> 4 -> 8 -> 2 -> 1 -> 5 -> 5 -> 4 -> 5 -> 3 -> 2 -> 0 -> 4 -> 5 -> 3 -> 0 -> 1\n",
      "0 -> 8 -> 5 -> 3 -> 7 -> 2 -> 6 -> 1 -> 4\n",
      "6 -> 1 -> 2 -> 1 -> 7 -> 1 -> 4 -> 5 -> 6 -> 1 -> 0 -> 0 -> 4 -> 4 -> 1 -> 3 -> 7 -> 1 -> 7 -> 4 -> 5 -> 4 -> 2 -> 1 -> 3 -> 8 -> 3 -> 4 -> 3 -> 3 -> 5 -> 0 -> 2 -> 3 -> 0 -> 5 -> 0 -> 7 -> 8 -> 5 -> 4 -> 3 -> 4 -> 7 -> 0 -> 1 -> 3 -> 6 -> 6 -> 4 -> 6 -> 2 -> 1 -> 8 -> 3 -> 8 -> 2 -> 6 -> 4 -> 4 -> 2 -> 8 -> 8 -> 6 -> 3 -> 7 -> 1 -> 3 -> 0 -> 7 -> 1 -> 5 -> 2 -> 7 -> 4 -> 4 -> 7 -> 0 -> 7 -> 2 -> 0 -> 8 -> 7 -> 7 -> 2 -> 1 -> 8 -> 2 -> 8 -> 8 -> 0 -> 0 -> 6 -> 5 -> 6 -> 6 -> 0 -> 1 -> 8 -> 1\n",
      "6 -> 1 -> 2 -> 7 -> 4 -> 5 -> 0 -> 3 -> 8\n"
     ]
    }
   ],
   "source": [
    "testable_functions = (remove_dups, remove_dups_followup)\n",
    "test_cases = (\n",
    "    ([], []),\n",
    "    ([1, 1, 1, 1, 1, 1], [1]),\n",
    "    ([1, 2, 3, 2], [1, 2, 3]),\n",
    "    ([1, 2, 2, 3], [1, 2, 3]),\n",
    "    ([1, 1, 2, 3], [1, 2, 3]),\n",
    "    ([1, 2, 3], [1, 2, 3]),\n",
    ")\n",
    "\n",
    "\n",
    "def example():\n",
    "    ll = LinkedList.generate(100, 0, 9)\n",
    "    print(ll)\n",
    "    remove_dups(ll)\n",
    "    print(ll)\n",
    "\n",
    "    ll = LinkedList.generate(100, 0, 9)\n",
    "    print(ll)\n",
    "    remove_dups_followup(ll)\n",
    "    print(ll)\n",
    "\n",
    "\n",
    "if __name__ == \"__main__\":\n",
    "    example()"
   ]
  },
  {
   "cell_type": "code",
   "execution_count": null,
   "id": "a8a5810d",
   "metadata": {
    "papermill": {
     "duration": 0.003388,
     "end_time": "2024-01-29T18:26:58.747741",
     "exception": false,
     "start_time": "2024-01-29T18:26:58.744353",
     "status": "completed"
    },
    "tags": []
   },
   "outputs": [],
   "source": []
  },
  {
   "cell_type": "code",
   "execution_count": null,
   "id": "39384032",
   "metadata": {
    "papermill": {
     "duration": 0.003357,
     "end_time": "2024-01-29T18:26:58.754947",
     "exception": false,
     "start_time": "2024-01-29T18:26:58.751590",
     "status": "completed"
    },
    "tags": []
   },
   "outputs": [],
   "source": []
  }
 ],
 "metadata": {
  "kaggle": {
   "accelerator": "none",
   "dataSources": [],
   "dockerImageVersionId": 30635,
   "isGpuEnabled": false,
   "isInternetEnabled": true,
   "language": "python",
   "sourceType": "notebook"
  },
  "kernelspec": {
   "display_name": "Python 3",
   "language": "python",
   "name": "python3"
  },
  "language_info": {
   "codemirror_mode": {
    "name": "ipython",
    "version": 3
   },
   "file_extension": ".py",
   "mimetype": "text/x-python",
   "name": "python",
   "nbconvert_exporter": "python",
   "pygments_lexer": "ipython3",
   "version": "3.10.12"
  },
  "papermill": {
   "default_parameters": {},
   "duration": 4.527495,
   "end_time": "2024-01-29T18:26:59.280316",
   "environment_variables": {},
   "exception": null,
   "input_path": "__notebook__.ipynb",
   "output_path": "__notebook__.ipynb",
   "parameters": {},
   "start_time": "2024-01-29T18:26:54.752821",
   "version": "2.4.0"
  }
 },
 "nbformat": 4,
 "nbformat_minor": 5
}
